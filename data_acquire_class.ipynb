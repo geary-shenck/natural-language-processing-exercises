{
 "cells": [
  {
   "cell_type": "code",
   "execution_count": 1,
   "metadata": {},
   "outputs": [],
   "source": [
    "from requests import get\n",
    "from bs4 import BeautifulSoup\n",
    "import pandas as pd\n",
    "import unicodedata\n",
    "import nltk\n",
    "import os\n",
    "import re"
   ]
  },
  {
   "cell_type": "code",
   "execution_count": 2,
   "metadata": {},
   "outputs": [],
   "source": [
    "url0 = \"https://site-to-scrape.glitch.me\""
   ]
  },
  {
   "cell_type": "code",
   "execution_count": 3,
   "metadata": {},
   "outputs": [
    {
     "data": {
      "text/plain": [
       "<Response [200]>"
      ]
     },
     "execution_count": 3,
     "metadata": {},
     "output_type": "execute_result"
    }
   ],
   "source": [
    "get(url0) ## response code 200 is successful"
   ]
  },
  {
   "cell_type": "code",
   "execution_count": 4,
   "metadata": {},
   "outputs": [
    {
     "data": {
      "text/plain": [
       "b'<!DOCTYPE html>\\n<html lang=\"en\">\\n  <head>\\n    <title>Site to Scrape!</title>\\n    <meta charset=\"utf-8\">\\n    <meta http-equiv=\"X-UA-Compatible\" content=\"IE=edge\">\\n    <meta name=\"viewport\" content=\"width=device-width, initial-scale=1\">\\n    \\n    <!-- import the webpage\\'s stylesheet -->\\n    <link rel=\"stylesheet\" href=\"/style.css\">\\n    \\n    <!-- import the webpage\\'s javascript file -->\\n    <script src=\"/script.js\" defer></script>\\n  </head>  \\n  <body>\\n    <header>\\n      <h1>This is the header!</h1>\\n      <hr>\\n    </header>\\n    \\n    <main>\\n      <div>\\n        <h1 class=\"first\">\\n        This is the main\\n        </h1>\\n        <h2>\\n          This is an h2 of main\\n        </h2>\\n        <h3>\\n          H3 inside of first div inside of main\\n        </h3>\\n      </div>\\n      <div>\\n        <h3 class=\"first\">\\n          H3 inside of second div inside of main.\\n        </h3>\\n        <p>\\n          Here\\'s some text content for us to scrape! \\xf0\\x9f\\x91\\xbd\\n        </p>\\n        <p>\\n          Here\\'s another paragraph of content! \\xe2\\x98\\xa0\\xef\\xb8\\x8f\\n        </p>\\n        <a href=\"https://github.com/ryanorsinger\">Click here to visit my portfolio</a>       \\n      </div>\\n    </main>\\n\\n    <footer>\\n      <h1>This is the footer</h1>\\n      <img src=\"https://traffic-analytics.glitch.me/counter.png?fallback=MY_WEBSITE&color=black\" alt=\"\" style=\"vertical-align: bottom;\" aria-hidden=\"true\">\\n    </footer>\\n\\n  </body>\\n</html>\\n'"
      ]
     },
     "execution_count": 4,
     "metadata": {},
     "output_type": "execute_result"
    }
   ],
   "source": [
    "get(url0).content"
   ]
  },
  {
   "cell_type": "code",
   "execution_count": 5,
   "metadata": {},
   "outputs": [],
   "source": [
    "#utilizng beautiful soup\n",
    "#make a soup:\n",
    "#recipe:\n",
    "#call BS on content of response\n",
    "soup = BeautifulSoup(get(url0).content,\"html.parser\")"
   ]
  },
  {
   "cell_type": "code",
   "execution_count": 6,
   "metadata": {},
   "outputs": [
    {
     "data": {
      "text/plain": [
       "<!DOCTYPE html>\n",
       "\n",
       "<html lang=\"en\">\n",
       "<head>\n",
       "<title>Site to Scrape!</title>\n",
       "<meta charset=\"utf-8\"/>\n",
       "<meta content=\"IE=edge\" http-equiv=\"X-UA-Compatible\"/>\n",
       "<meta content=\"width=device-width, initial-scale=1\" name=\"viewport\"/>\n",
       "<!-- import the webpage's stylesheet -->\n",
       "<link href=\"/style.css\" rel=\"stylesheet\"/>\n",
       "<!-- import the webpage's javascript file -->\n",
       "<script defer=\"\" src=\"/script.js\"></script>\n",
       "</head>\n",
       "<body>\n",
       "<header>\n",
       "<h1>This is the header!</h1>\n",
       "<hr/>\n",
       "</header>\n",
       "<main>\n",
       "<div>\n",
       "<h1 class=\"first\">\n",
       "        This is the main\n",
       "        </h1>\n",
       "<h2>\n",
       "          This is an h2 of main\n",
       "        </h2>\n",
       "<h3>\n",
       "          H3 inside of first div inside of main\n",
       "        </h3>\n",
       "</div>\n",
       "<div>\n",
       "<h3 class=\"first\">\n",
       "          H3 inside of second div inside of main.\n",
       "        </h3>\n",
       "<p>\n",
       "          Here's some text content for us to scrape! 👽\n",
       "        </p>\n",
       "<p>\n",
       "          Here's another paragraph of content! ☠️\n",
       "        </p>\n",
       "<a href=\"https://github.com/ryanorsinger\">Click here to visit my portfolio</a>\n",
       "</div>\n",
       "</main>\n",
       "<footer>\n",
       "<h1>This is the footer</h1>\n",
       "<img alt=\"\" aria-hidden=\"true\" src=\"https://traffic-analytics.glitch.me/counter.png?fallback=MY_WEBSITE&amp;color=black\" style=\"vertical-align: bottom;\"/>\n",
       "</footer>\n",
       "</body>\n",
       "</html>"
      ]
     },
     "execution_count": 6,
     "metadata": {},
     "output_type": "execute_result"
    }
   ],
   "source": [
    "# if we look at soup its of the same structure as the text but a little cleaner \n",
    "# and futhermore its a new object -- BeautifulSoup\n",
    "soup"
   ]
  },
  {
   "cell_type": "code",
   "execution_count": 7,
   "metadata": {},
   "outputs": [
    {
     "data": {
      "text/plain": [
       "'<!DOCTYPE html>\\n<html lang=\"en\">\\n <head>\\n  <title>\\n   Site to Scrape!\\n  </title>\\n  <meta charset=\"utf-8\"/>\\n  <meta content=\"IE=edge\" http-equiv=\"X-UA-Compatible\"/>\\n  <meta content=\"width=device-width, initial-scale=1\" name=\"viewport\"/>\\n  <!-- import the webpage\\'s stylesheet -->\\n  <link href=\"/style.css\" rel=\"stylesheet\"/>\\n  <!-- import the webpage\\'s javascript file -->\\n  <script defer=\"\" src=\"/script.js\">\\n  </script>\\n </head>\\n <body>\\n  <header>\\n   <h1>\\n    This is the header!\\n   </h1>\\n   <hr/>\\n  </header>\\n  <main>\\n   <div>\\n    <h1 class=\"first\">\\n     This is the main\\n    </h1>\\n    <h2>\\n     This is an h2 of main\\n    </h2>\\n    <h3>\\n     H3 inside of first div inside of main\\n    </h3>\\n   </div>\\n   <div>\\n    <h3 class=\"first\">\\n     H3 inside of second div inside of main.\\n    </h3>\\n    <p>\\n     Here\\'s some text content for us to scrape! 👽\\n    </p>\\n    <p>\\n     Here\\'s another paragraph of content! ☠️\\n    </p>\\n    <a href=\"https://github.com/ryanorsinger\">\\n     Click here to visit my portfolio\\n    </a>\\n   </div>\\n  </main>\\n  <footer>\\n   <h1>\\n    This is the footer\\n   </h1>\\n   <img alt=\"\" aria-hidden=\"true\" src=\"https://traffic-analytics.glitch.me/counter.png?fallback=MY_WEBSITE&amp;color=black\" style=\"vertical-align: bottom;\"/>\\n  </footer>\\n </body>\\n</html>\\n'"
      ]
     },
     "execution_count": 7,
     "metadata": {},
     "output_type": "execute_result"
    }
   ],
   "source": [
    "soup.prettify()"
   ]
  },
  {
   "cell_type": "code",
   "execution_count": 8,
   "metadata": {},
   "outputs": [
    {
     "data": {
      "text/plain": [
       "<head>\n",
       "<title>Site to Scrape!</title>\n",
       "<meta charset=\"utf-8\"/>\n",
       "<meta content=\"IE=edge\" http-equiv=\"X-UA-Compatible\"/>\n",
       "<meta content=\"width=device-width, initial-scale=1\" name=\"viewport\"/>\n",
       "<!-- import the webpage's stylesheet -->\n",
       "<link href=\"/style.css\" rel=\"stylesheet\"/>\n",
       "<!-- import the webpage's javascript file -->\n",
       "<script defer=\"\" src=\"/script.js\"></script>\n",
       "</head>"
      ]
     },
     "execution_count": 8,
     "metadata": {},
     "output_type": "execute_result"
    }
   ],
   "source": [
    "# <tag>\n",
    "# some stuff\n",
    "# <\\ tag>\n",
    "# among the things we can do, we can reference elements directly\n",
    "soup.head"
   ]
  },
  {
   "cell_type": "code",
   "execution_count": 9,
   "metadata": {},
   "outputs": [
    {
     "data": {
      "text/plain": [
       "<title>Site to Scrape!</title>"
      ]
     },
     "execution_count": 9,
     "metadata": {},
     "output_type": "execute_result"
    }
   ],
   "source": [
    "soup.head.title"
   ]
  },
  {
   "cell_type": "code",
   "execution_count": 10,
   "metadata": {},
   "outputs": [
    {
     "data": {
      "text/plain": [
       "<title>Site to Scrape!</title>"
      ]
     },
     "execution_count": 10,
     "metadata": {},
     "output_type": "execute_result"
    }
   ],
   "source": [
    "soup.title"
   ]
  },
  {
   "cell_type": "code",
   "execution_count": 11,
   "metadata": {},
   "outputs": [
    {
     "data": {
      "text/plain": [
       "<p>\n",
       "          Here's some text content for us to scrape! 👽\n",
       "        </p>"
      ]
     },
     "execution_count": 11,
     "metadata": {},
     "output_type": "execute_result"
    }
   ],
   "source": [
    "soup.p\n",
    "##but there's more than one p"
   ]
  },
  {
   "cell_type": "code",
   "execution_count": 12,
   "metadata": {},
   "outputs": [
    {
     "data": {
      "text/plain": [
       "<p>\n",
       "          Here's some text content for us to scrape! 👽\n",
       "        </p>"
      ]
     },
     "execution_count": 12,
     "metadata": {},
     "output_type": "execute_result"
    }
   ],
   "source": [
    "soup.find(\"p\")\n",
    "## nope, find does find first"
   ]
  },
  {
   "cell_type": "code",
   "execution_count": 13,
   "metadata": {},
   "outputs": [
    {
     "data": {
      "text/plain": [
       "[<p>\n",
       "           Here's some text content for us to scrape! 👽\n",
       "         </p>,\n",
       " <p>\n",
       "           Here's another paragraph of content! ☠️\n",
       "         </p>]"
      ]
     },
     "execution_count": 13,
     "metadata": {},
     "output_type": "execute_result"
    }
   ],
   "source": [
    "soup.find_all(\"p\")"
   ]
  },
  {
   "cell_type": "code",
   "execution_count": 14,
   "metadata": {},
   "outputs": [
    {
     "data": {
      "text/plain": [
       "<p>\n",
       "          Here's another paragraph of content! ☠️\n",
       "        </p>"
      ]
     },
     "execution_count": 14,
     "metadata": {},
     "output_type": "execute_result"
    }
   ],
   "source": [
    "soup.find_all(\"p\")[1]\n",
    "## can reference as a list, but it is not a list"
   ]
  },
  {
   "cell_type": "code",
   "execution_count": 15,
   "metadata": {},
   "outputs": [
    {
     "data": {
      "text/plain": [
       "\"Here's another paragraph of content! ☠️\""
      ]
     },
     "execution_count": 15,
     "metadata": {},
     "output_type": "execute_result"
    }
   ],
   "source": [
    "soup.find_all(\"p\")[1].text.strip()"
   ]
  },
  {
   "cell_type": "code",
   "execution_count": 16,
   "metadata": {},
   "outputs": [
    {
     "data": {
      "text/plain": [
       "[<h1>This is the header!</h1>,\n",
       " <h1 class=\"first\">\n",
       "         This is the main\n",
       "         </h1>,\n",
       " <h1>This is the footer</h1>]"
      ]
     },
     "execution_count": 16,
     "metadata": {},
     "output_type": "execute_result"
    }
   ],
   "source": [
    "## select will grab all css elements in apage:\n",
    "#equivalents: select_one is like find\n",
    "#select is like find_all\n",
    "soup.select(\"h1\")"
   ]
  },
  {
   "cell_type": "code",
   "execution_count": 17,
   "metadata": {},
   "outputs": [
    {
     "data": {
      "text/plain": [
       "['This is the header!', 'This is the main', 'This is the footer']"
      ]
     },
     "execution_count": 17,
     "metadata": {},
     "output_type": "execute_result"
    }
   ],
   "source": [
    "[thing.text.strip() for thing in soup.select(\"h1\")]"
   ]
  },
  {
   "cell_type": "markdown",
   "metadata": {},
   "source": [
    "# build on content\n",
    "- new task\n",
    " - examine new url\n",
    " - figure out what we want\n",
    " - figure out how to grab\n",
    " - figure out how to do it programmically"
   ]
  },
  {
   "cell_type": "code",
   "execution_count": 18,
   "metadata": {},
   "outputs": [
    {
     "data": {
      "text/plain": [
       "[<p> 2021-11-04 </p>,\n",
       " <p class=\"text-right\">By Veronica Sloan </p>,\n",
       " <p>About mention method trade government role. Sister television buy character far.\n",
       " Enough direction career suffer hour issue culture. Purpose lot board final pattern.</p>]"
      ]
     },
     "execution_count": 18,
     "metadata": {},
     "output_type": "execute_result"
    }
   ],
   "source": [
    "url1 = \"https://web-scraping-demo.zgulde.net/news\"\n",
    "get(url1)\n",
    "soup = BeautifulSoup(get(url1).content)\n",
    "soup.head()\n",
    "articles = soup.select(\"div.grid.grid-cols-4\")\n",
    "articles[0].find_all(\"p\")"
   ]
  },
  {
   "cell_type": "code",
   "execution_count": 19,
   "metadata": {},
   "outputs": [],
   "source": [
    "def get_article_content(some_article):\n",
    "    ''' \n",
    "    grab content with bs object\n",
    "    for each article in overall set of article\n",
    "    '''\n",
    "    output={}\n",
    "    output[\"headline\"] = some_article.find('h2').text.strip()\n",
    "    output[\"date\"], output[\"author\"], output[\"content\"] = \\\n",
    "        [thing.text.strip() for thing in some_article.find_all(\"p\")]\n",
    "    return output"
   ]
  },
  {
   "cell_type": "code",
   "execution_count": 20,
   "metadata": {},
   "outputs": [],
   "source": [
    "def acquire_article(url):\n",
    "    ''' \n",
    "    given a url with expected structure, acuqire iwth pull content of web page\n",
    "    and return dataframe of all article in side page\n",
    "    '''\n",
    "\n",
    "    soup = BeautifulSoup(get(url).content)\n",
    "    articles = soup.select('div.grid.grid-cols-4')\n",
    "    return pd.DataFrame([get_article_content(article) for article in articles])\n"
   ]
  },
  {
   "cell_type": "code",
   "execution_count": 21,
   "metadata": {},
   "outputs": [
    {
     "data": {
      "text/html": [
       "<div>\n",
       "<style scoped>\n",
       "    .dataframe tbody tr th:only-of-type {\n",
       "        vertical-align: middle;\n",
       "    }\n",
       "\n",
       "    .dataframe tbody tr th {\n",
       "        vertical-align: top;\n",
       "    }\n",
       "\n",
       "    .dataframe thead th {\n",
       "        text-align: right;\n",
       "    }\n",
       "</style>\n",
       "<table border=\"1\" class=\"dataframe\">\n",
       "  <thead>\n",
       "    <tr style=\"text-align: right;\">\n",
       "      <th></th>\n",
       "      <th>headline</th>\n",
       "      <th>date</th>\n",
       "      <th>author</th>\n",
       "      <th>content</th>\n",
       "    </tr>\n",
       "  </thead>\n",
       "  <tbody>\n",
       "    <tr>\n",
       "      <th>0</th>\n",
       "      <td>environmental site final</td>\n",
       "      <td>1979-12-19</td>\n",
       "      <td>By Michelle Cohen</td>\n",
       "      <td>Identify difficult great provide enter few. Op...</td>\n",
       "    </tr>\n",
       "    <tr>\n",
       "      <th>1</th>\n",
       "      <td>clearly top individual</td>\n",
       "      <td>2004-06-24</td>\n",
       "      <td>By Samantha Davenport</td>\n",
       "      <td>Poor right look produce. Cold commercial south...</td>\n",
       "    </tr>\n",
       "    <tr>\n",
       "      <th>2</th>\n",
       "      <td>himself feel no</td>\n",
       "      <td>2005-01-07</td>\n",
       "      <td>By Michael Stevenson</td>\n",
       "      <td>Give sort month this inside. Prepare call cand...</td>\n",
       "    </tr>\n",
       "    <tr>\n",
       "      <th>3</th>\n",
       "      <td>security green make</td>\n",
       "      <td>2003-04-22</td>\n",
       "      <td>By Shawn Stewart</td>\n",
       "      <td>Like use score reflect compare. Manager increa...</td>\n",
       "    </tr>\n",
       "    <tr>\n",
       "      <th>4</th>\n",
       "      <td>bar issue light</td>\n",
       "      <td>1984-09-04</td>\n",
       "      <td>By Christine Grant</td>\n",
       "      <td>Consumer leg fact yet century. Song wear up to...</td>\n",
       "    </tr>\n",
       "    <tr>\n",
       "      <th>5</th>\n",
       "      <td>great role page</td>\n",
       "      <td>1986-10-30</td>\n",
       "      <td>By Melissa Lane</td>\n",
       "      <td>Coach resource his seat main maybe. Of level i...</td>\n",
       "    </tr>\n",
       "    <tr>\n",
       "      <th>6</th>\n",
       "      <td>move move fact</td>\n",
       "      <td>2022-07-15</td>\n",
       "      <td>By Ryan Bishop</td>\n",
       "      <td>Agency attack kid either sure may agent recent...</td>\n",
       "    </tr>\n",
       "    <tr>\n",
       "      <th>7</th>\n",
       "      <td>behavior technology soon</td>\n",
       "      <td>2001-05-31</td>\n",
       "      <td>By Victoria Spencer</td>\n",
       "      <td>Just car always officer recent more tell. Argu...</td>\n",
       "    </tr>\n",
       "    <tr>\n",
       "      <th>8</th>\n",
       "      <td>task billion modern</td>\n",
       "      <td>1998-06-10</td>\n",
       "      <td>By Penny Nicholson</td>\n",
       "      <td>While that serious policy rate hot interest. A...</td>\n",
       "    </tr>\n",
       "    <tr>\n",
       "      <th>9</th>\n",
       "      <td>rise sense individual</td>\n",
       "      <td>1978-06-13</td>\n",
       "      <td>By Ryan Perez</td>\n",
       "      <td>Note year soldier born. Red perhaps bring ques...</td>\n",
       "    </tr>\n",
       "    <tr>\n",
       "      <th>10</th>\n",
       "      <td>look oil community</td>\n",
       "      <td>1999-06-06</td>\n",
       "      <td>By Harold Howard</td>\n",
       "      <td>Produce property along upon. Late environment ...</td>\n",
       "    </tr>\n",
       "    <tr>\n",
       "      <th>11</th>\n",
       "      <td>economy everyone better</td>\n",
       "      <td>1994-03-02</td>\n",
       "      <td>By Jose Barber</td>\n",
       "      <td>Describe drop wife figure security five garden...</td>\n",
       "    </tr>\n",
       "  </tbody>\n",
       "</table>\n",
       "</div>"
      ],
      "text/plain": [
       "                    headline        date                 author  \\\n",
       "0   environmental site final  1979-12-19      By Michelle Cohen   \n",
       "1     clearly top individual  2004-06-24  By Samantha Davenport   \n",
       "2            himself feel no  2005-01-07   By Michael Stevenson   \n",
       "3        security green make  2003-04-22       By Shawn Stewart   \n",
       "4            bar issue light  1984-09-04     By Christine Grant   \n",
       "5            great role page  1986-10-30        By Melissa Lane   \n",
       "6             move move fact  2022-07-15         By Ryan Bishop   \n",
       "7   behavior technology soon  2001-05-31    By Victoria Spencer   \n",
       "8        task billion modern  1998-06-10     By Penny Nicholson   \n",
       "9      rise sense individual  1978-06-13          By Ryan Perez   \n",
       "10        look oil community  1999-06-06       By Harold Howard   \n",
       "11   economy everyone better  1994-03-02         By Jose Barber   \n",
       "\n",
       "                                              content  \n",
       "0   Identify difficult great provide enter few. Op...  \n",
       "1   Poor right look produce. Cold commercial south...  \n",
       "2   Give sort month this inside. Prepare call cand...  \n",
       "3   Like use score reflect compare. Manager increa...  \n",
       "4   Consumer leg fact yet century. Song wear up to...  \n",
       "5   Coach resource his seat main maybe. Of level i...  \n",
       "6   Agency attack kid either sure may agent recent...  \n",
       "7   Just car always officer recent more tell. Argu...  \n",
       "8   While that serious policy rate hot interest. A...  \n",
       "9   Note year soldier born. Red perhaps bring ques...  \n",
       "10  Produce property along upon. Late environment ...  \n",
       "11  Describe drop wife figure security five garden...  "
      ]
     },
     "execution_count": 21,
     "metadata": {},
     "output_type": "execute_result"
    }
   ],
   "source": [
    "acquire_article(url1)"
   ]
  },
  {
   "cell_type": "markdown",
   "metadata": {},
   "source": [
    "# Codeup Blog Articles\n",
    "\n",
    "Visit Codeup's Blog and record the urls for at least 5 distinct blog posts. For each post, you should scrape at least the post's title and content.\n",
    "\n",
    "Encapsulate your work in a function named get_blog_articles that will return a list of dictionaries, with each dictionary representing one article. The shape of each dictionary should look like this:"
   ]
  },
  {
   "cell_type": "code",
   "execution_count": 22,
   "metadata": {},
   "outputs": [],
   "source": [
    "def get_blog_articles():\n",
    "    ''' \n",
    "    no input\n",
    "    scrapes the top page of the codeup website for title and summary of blogs\n",
    "    returns a list of dictionaries\n",
    "    '''\n",
    "    #set variables\n",
    "    url2 = \"https://codeup.com/blog/\"\n",
    "    lst=[]\n",
    "    headers = {'User-Agent': 'Codeup Data Science'} # Some websites don't accept the pyhon-requests default user-agent\n",
    "    response = get(url2, headers=headers)\n",
    "    #make soup\n",
    "    soup=BeautifulSoup(response.content)\n",
    "    #set for article\n",
    "    articles = soup.select(\"article\")\n",
    "    #goes through and grabs title and summary from article\n",
    "    for art,_ in enumerate(articles):\n",
    "        # print(art)\n",
    "        ##url\n",
    "        lst.append({\"title\":(articles[art].select(\"h2\")[0].text.strip()),\n",
    "                    \"summary\": (articles[art].select(\"p\")[1].text.strip())\n",
    "                    })\n",
    "    return lst"
   ]
  },
  {
   "cell_type": "markdown",
   "metadata": {},
   "source": [
    "## Class"
   ]
  },
  {
   "cell_type": "code",
   "execution_count": 23,
   "metadata": {},
   "outputs": [],
   "source": [
    "# start building our function:\n",
    "# first step: grab the article links:\n",
    "def get_blog_urls(base_url, header={'User-Agent': 'hamsandwich'}):\n",
    "    soup = BeautifulSoup(get(base_url, headers=header).content)\n",
    "    return [link['href'] for link in soup.select('a.more-link')]"
   ]
  },
  {
   "cell_type": "code",
   "execution_count": 24,
   "metadata": {},
   "outputs": [],
   "source": [
    "def get_blog_content(base_url,header={'User-Agent': 'hamsandwich'}):\n",
    "    blog_links = get_blog_urls(base_url)\n",
    "    all_blogs = []\n",
    "    for blog in blog_links:\n",
    "        blog_soup = BeautifulSoup(\n",
    "            get(blog,\n",
    "                headers=header).content)\n",
    "        blog_content = {'title': blog_soup.select_one(\n",
    "            'h1.entry-title').text,\n",
    "        'content': blog_soup.select_one(\n",
    "            'div.entry-content').text.strip()}\n",
    "        all_blogs.append(blog_content)\n",
    "    return all_blogs"
   ]
  },
  {
   "cell_type": "code",
   "execution_count": 25,
   "metadata": {},
   "outputs": [
    {
     "data": {
      "text/plain": [
       "[{'title': 'Diversity Equity and Inclusion Report',\n",
       "  'content': 'Codeup is excited to launch our first Diversity Equity, and Inclusion (DEI) report! In over eight years as an organization, we’ve implemented policies and grown our DEI efforts. We are extremely proud of the progress we’ve made as a staff and Codeup community, and we recognize there is more to learn. This report captures some of the ways that we’ve lived our value of Cultivating Inclusive Growth, and how we will continue doing so as we look to the future.\\nWe wanted to shine a light on the demographics of our students and staff, and in particular how that compares to the tech industry as a whole. How we collect, organize, and share employee demographic data is informed by standards set by the Equal Employment Opportunity Commission (EEOC).\\nWe are proud to celebrate how we’ve grown and are motivated and committed to do more and be better. To view the report visit the link here, or download it below.'},\n",
       " {'title': 'Codeup Honored as SABJ Diversity and Inclusion Award Winner',\n",
       "  'content': 'Codeup has been named the 2022 Diversity and Inclusion award winner from the San Antonio Business Journal!\\nWe are thrilled to be among those that take pride in ensuring that diversity, equity, and inclusion (DEI) are priorities in our work environments.\\nTo learn more about our efforts, please check out our DEI Report for 2022!'},\n",
       " {'title': 'How Can I Finance My Career Transition?',\n",
       "  'content': 'Deciding to transition into a tech career is a big step and a more significant commitment. Often after deciding to commit to a journey of this nature, the main obstacle is finding a way to finance your training.\\nAt Codeup, we recognize that many of our students are career transitioners, and attending one of our programs can sometimes require sacrifice. Luckily, we have several ways to help you finance your career transition, ultimately leading to that new career you’ve decided to pursue.\\nPrograms\\nWe offer three different accelerated coding bootcamps at Codeup including Full-Stack Web Development, Cloud Administration, and Data Science. These are all instructor-led and designed to quickly equip you with the skills and knowledge to secure an entry-level position in-field.\\nGetting Started\\nFor all of our programs, a $1,000 deposit one week before a student’s first day of class is all we require in order to solidify a seat in the starting cohort.\\nPayment Options\\nFinding a payment option that suits your needs is feasible with our different financing options.\\n\\nSelf-Pay: If you opt to pay out of pocket, 50% of the balance will be due on the first day of class, and the remaining 50% will be due 30 days after the first day of class\\nLoans: We have three loan partners that offer flexible repayment, including no payments until 6 months after graduating from our program!\\nGrants: With multiple options available, our grant partners will work to help you find aid to offset the cost of attendance\\nScholarships: We offer seven different internal scholarships, including Women in Tech, Annie Easley, Minorities in Tech, Pride, Veterans, First-Responders and Covid-19 Relief.\\nVA Benefits: We proudly accept VA benefits as a form of payment for veterans looking to transition to a career in tech. Our Dallas campus specifically accepts VET TEC, and our San Antonio campus accepts VET TEC, GI Bill®/Chapter 33, VRRAP, and Vocational Rehabilitation.\\n\\nFind a complete breakdown by campus of all of our financial aid options here.\\nIf you’re interested in jumpstarting your career in tech with Codeup, apply today and chat with someone from our admissions or financial aid team to get you setup in an upcoming cohort! If you aren’t quite ready to apply, click here to request more information on our programs, and we’ll help you decide which direction is best for you.'},\n",
       " {'title': 'Tips for Women Beginning a Career in Tech',\n",
       "  'content': 'Codeup strongly values diversity, and inclusion. In honor of American Business Women’s Day, we’d like to share eight tips and pieces of advice from Codeup’s women in tech for women looking to begin their careers in tech!\\n\\n“Be confident in what you’re saying. If you’re speaking it’s because you have something to say.”\\n“Don’t over apologize (I do this way too often).”\\n“Be open and willing to speak up to your colleagues on how they can be supportive to everyone in the environment.”\\n“Band with other women to support each other on y’alls journey.”\\n“Find a mentor (and don’t limit yourself to just women mentors, as there aren’t many out there). A mentor can help you establish your career goals, navigate your journey, provide emotional support or motivation, and ultimately help you succeed.”\\n“Do not dismiss or shrug off “humor.” Call out racist, sexist, ableist, etc., comments. Stop letting work colleagues get away with bad behavior. Do this quickly, so it isn’t something that continues to happen.”\\n“Don’t be afraid to ask questions. The other three guys that were hired at the same time as I was NEVER asked any questions, but it turns out they were just as lost as I was. Once I started asking questions in our training meetings, they all started asking away as well! I thought they all understood what was going on, and being the only female in the group, I didn’t want to stick out. This had been holding me back. Instead of being afraid that you will come off as “not getting it”, you will instead hear “That’s a really good question!” or “I’m glad you asked that!”.”\\n“We belong here. Remind yourself of that when you doubt yourself. Because you will. I did. But I belong. And you do, too. So say it like a mantra – I belong here. And believe it.”\\n\\nCodeup works hard to close the gender inequality gap, and to diversify the tech world by producing a unique blend of tech talent. We also offer a Women in Tech scholarship open to anyone who identifies as a woman. Our goal is to make a career in tech accessible to all.\\nJoin us on our journey of empowering women in tech today! Apply or request more information on our programs to jumpstart your career in tech.'},\n",
       " {'title': 'What is Cloud Computing and AWS?',\n",
       "  'content': 'With many companies switching to cloud services and implementing cloud infrastructure in their practices, many of us may be wondering…what is cloud computing, and what is AWS?\\nHopefully, this beginner-friendly guide will answer these questions and give you a foundational understanding of AWS and how cloud infrastructure differs from traditional IT.\\nWhat is cloud computing?\\nCloud computing is data hosted via the internet by an independent party. This independent party extends its infrastructure to customers with a pay-as-you-go pricing model.\\nCloud Service Providers\\nRecently, more organizations have given up physical data centers and are transitioning to the Cloud for their needs. The following are the top Cloud Infrastructure Services providers in 2022:\\n\\nAmazon Web Services (AWS)\\nMicrosoft Azure\\nGoogle Cloud Platform (GCP)\\n\\nAWS| Amazon Web Services\\nAt Codeup, our Cloud Administration program curriculum focuses on AWS. We prepare students to attempt two certification exams:\\n\\nAWS Cloud Practitioner Exam\\nAWS Solutions Architect Associate Exam\\n\\nAWS is the most mature of the cloud service providers, and the lead market provider of cloud services. AWS offers over 200 services, operating globally at a low cost.\\nCloud-Based Infrastructure vs. Traditional IT\\nCloud-Based Infrastructure\\n\\nSelect the right resource for your organization based on needs such as power, storage, speed, and network, and easily make adjustments as needed\\nYou only pay for what you use\\nDeploying infrastructure globally is easy and achievable in minutes\\nThere are no customer costs associated with maintenance, updates, or licensing\\nSecurity and fault tolerance mechanisms are taken care of by the cloud service provider\\nUser data is saved at all times and protected in multiple data centers within a region so in the case of an emergency or disaster, service remains uninterrupted\\nOperating in the cloud is all automated\\n24/7 trained IT staff is available for customer support\\n\\nTraditional IT\\n\\nOrganizations will need to acquire and setup servers independently and manually\\nThe organization is responsible for maintenance and hardware checkups\\nThe organization is responsible for backing up data and setting up a disaster recovery plan\\nAn IT staff will need to be hired by the organization\\nWhen scaling up, it is necessary to acquire more hardware to meet the needs of the organization\\nScaling up or down is manual and time-consuming\\nRequires a lot of up front capital to purchase the necessary hardware\\n\\nIf you’re interested in jumpstarting your career in tech, and you’re looking into cloud computing our Cloud Administration program may be right for you! Request more information to learn more, and check out some of our 100% free workshops to see if it’s a good fit. When you’re ready, apply to get started on your Codeup journey! We hope to hear from you soon.'},\n",
       " {'title': '2022 SABJ C-Suite Award Winner: Stephen Noteboom',\n",
       "  'content': 'Codeup’s Chief Operating Officer, Stephen Noteboom has won the 2022 San Antonio Business Journal’s C-Suite Award!\\nThis award recognizes Stephen as a top C-Suite leader in San Antonio, TX, and we couldn’t be more proud. Stephen has been with Codeup for a year and a half, and has been nothing short of a great COO.\\nWe are so excited to share in such a fantastic accomplishment, and we will continue to strive for excellence going forward.\\nCongratulations Stephen!'}]"
      ]
     },
     "execution_count": 25,
     "metadata": {},
     "output_type": "execute_result"
    }
   ],
   "source": [
    "codeup_blogs = get_blog_content(\"https://codeup.com/blog/\")\n",
    "codeup_blogs"
   ]
  },
  {
   "cell_type": "markdown",
   "metadata": {},
   "source": [
    "# News Articles\n",
    "\n",
    "We will now be scraping text data from inshorts, a website that provides a brief overview of many different topics.\n",
    "\n",
    "Write a function that scrapes the news articles for the following topics:\n",
    "\n",
    "Business\n",
    "Sports\n",
    "Technology\n",
    "Entertainment\n",
    "The end product of this should be a function named get_news_articles that returns a list of dictionaries, where each dictionary has this shape:\n",
    "\n",
    "\n"
   ]
  },
  {
   "cell_type": "code",
   "execution_count": 26,
   "metadata": {},
   "outputs": [],
   "source": [
    "def get_news_articles(topics=[\"Business\",\"Sports\",\"Technology\",\"Entertainment\"]):\n",
    "    ''' \n",
    "    takes in list of topics (optional)\n",
    "    goes to inshorts website, finds pages for topics, goes to that page\n",
    "    makes a list of dictionaries from headline, summary article, and category\n",
    "    returns list\n",
    "    '''\n",
    "    #set variables\n",
    "    url3 = \"https://inshorts.com/en/read\"\n",
    "    art_list=[]\n",
    "    #make the soup\n",
    "    soup_main = BeautifulSoup(get(url3).content)\n",
    "    articles = soup_main.select(\"ul\")\n",
    "    #go through the possible categories\n",
    "    for i in range(0,len(articles[0].find_all(\"li\"))):\n",
    "        #print(i)\n",
    "        #if find match to topics, go to that page and makes new soup\n",
    "        if articles[0].find_all(\"li\")[i].text in topics:\n",
    "            url = \"https://inshorts.com\"+articles[0].find_all(\"a\")[i][\"href\"]\n",
    "            soup_sub = BeautifulSoup(get(url).content)\n",
    "            #look for headline\n",
    "            title = soup_sub.find_all(\"span\",{\"itemprop\":\"headline\"})\n",
    "            #look for summary article\n",
    "            summary = soup_sub.find_all(\"div\",{\"itemprop\":\"articleBody\"})\n",
    "            #set them to a list for all on page\n",
    "            for j in range(0,len(summary)):\n",
    "                art_list.append({\"title\":title[j].text,\n",
    "                                \"summary\":summary[j].text,\n",
    "                                \"category\":articles[0].find_all(\"li\",)[i].text})\n",
    "    return art_list\n"
   ]
  },
  {
   "cell_type": "code",
   "execution_count": 27,
   "metadata": {},
   "outputs": [],
   "source": [
    "news_arts = get_news_articles()"
   ]
  },
  {
   "cell_type": "markdown",
   "metadata": {},
   "source": [
    "---\n",
    "---\n",
    "---\n",
    "---\n",
    "---\n",
    "---\n",
    "---\n",
    "---\n",
    "---\n",
    "---\n",
    "---\n",
    "---\n",
    "---\n",
    "---\n",
    "---\n",
    "---\n",
    "---\n",
    "---\n",
    "---\n",
    "---\n",
    "---\n",
    "---\n",
    "---\n",
    "---\n",
    "---\n",
    "---\n",
    "---\n",
    "---\n",
    "---\n",
    "---"
   ]
  },
  {
   "cell_type": "code",
   "execution_count": 28,
   "metadata": {},
   "outputs": [],
   "source": [
    "def nope():\n",
    "    url2 = \"https://codeup.com/blog/\"\n",
    "    headers = {'User-Agent': 'Codeup Data Science'} # Some websites don't accept the pyhon-requests default user-agent\n",
    "    response = get(url2, headers=headers)\n",
    "    soup=BeautifulSoup(response.content)\n",
    "    articles = soup.select(\"article\")\n",
    "    dikt = {}\n",
    "    # print(art)\n",
    "    ##url\n",
    "    dikt[\"url\"] = [(articles[art].select_one(\".more-link\")[\"href\"]) for art,_ in enumerate(articles)]\n",
    "    # title\n",
    "    dikt[\"title\"] = [(articles[art].select(\"h2\")[0].text.strip()) for art,_ in enumerate(articles)]\n",
    "    ## summary\n",
    "    dikt[\"summary\"] = [(articles[art].select(\"p\")[1].text.strip()) for art,_ in enumerate(articles)]\n",
    "\n",
    "    dikt"
   ]
  },
  {
   "cell_type": "markdown",
   "metadata": {},
   "source": [
    "# Define a function named basic_clean. It should take in a string and apply some basic text cleaning to it:\n",
    "- Lowercase everything\n",
    "- Normalize unicode characters\n",
    "- Replace anything that is not a letter, number, whitespace or a single quote."
   ]
  },
  {
   "cell_type": "code",
   "execution_count": 29,
   "metadata": {},
   "outputs": [],
   "source": [
    "def basic_clean(article0):\n",
    "    ''' \n",
    "    input string\n",
    "    lowers cases, makes \"normal\" characters, and removes anything not expected\n",
    "    returns article\n",
    "    '''\n",
    "    import unicodedata\n",
    "    import re\n",
    "    #lower cases\n",
    "    article = article0.lower()\n",
    "    ## decodes to change to \"normal\" characters after encoding to ascii from a unicode normalize\n",
    "    article = unicodedata.normalize(\"NFKD\",article).encode(\"ascii\",\"ignore\").decode(\"utf-8\")\n",
    "    # removes anything not lowercase, number, single quote, or a space\n",
    "    article = re.sub(r'[^a-z0-9\\'\\s]','',article)\n",
    "    return article"
   ]
  },
  {
   "cell_type": "markdown",
   "metadata": {},
   "source": [
    "# Define a function named tokenize. It should take in a string and tokenize all the words in the string."
   ]
  },
  {
   "cell_type": "code",
   "execution_count": 30,
   "metadata": {},
   "outputs": [],
   "source": [
    "def tokenize(article0):\n",
    "    ''' \n",
    "    input string\n",
    "    creates object, returns string after object affect\n",
    "    '''\n",
    "    import nltk\n",
    "    #create the tokenizer\n",
    "    tokenize = nltk.tokenize.ToktokTokenizer()\n",
    "    #use the tokenizer\n",
    "    article = tokenize.tokenize(article0,return_str=True)\n",
    "    return article"
   ]
  },
  {
   "cell_type": "markdown",
   "metadata": {},
   "source": [
    "# Define a function named stem. It should accept some text and return the text after applying stemming to all the words."
   ]
  },
  {
   "cell_type": "code",
   "execution_count": 31,
   "metadata": {},
   "outputs": [],
   "source": [
    "def stem(article):\n",
    "    ''' \n",
    "    input string\n",
    "    create object, apply it to the each in string, rejoin and return\n",
    "    '''\n",
    "    import nltk\n",
    "    #create porter stemmer\n",
    "    ps = nltk.porter.PorterStemmer()\n",
    "    stems = [ps.stem(word) for word in article.split()]\n",
    "    #join words back together\n",
    "    article_stemmed = \" \".join(stems)\n",
    "    return article_stemmed"
   ]
  },
  {
   "cell_type": "markdown",
   "metadata": {},
   "source": [
    "# Define a function named lemmatize. It should accept some text and return the text after applying lemmatization to each word."
   ]
  },
  {
   "cell_type": "code",
   "execution_count": 32,
   "metadata": {},
   "outputs": [],
   "source": [
    "def lemmatize(article):\n",
    "    ''' \n",
    "    input article\n",
    "    makes object, applies to string, and returns results\n",
    "    '''\n",
    "    import nltk\n",
    "    #create the lemmatizer\n",
    "    wnl = nltk.stem.WordNetLemmatizer()\n",
    "    #use lemmatizer\n",
    "    lemmatized = [wnl.lemmatize(word) for word in article.split()]\n",
    "    #join words back together\n",
    "    article_lemmatized = \" \".join(lemmatized)\n",
    "    return article_lemmatized"
   ]
  },
  {
   "cell_type": "markdown",
   "metadata": {},
   "source": [
    "# Define a function named remove_stopwords. It should accept some text and return the text after removing all the stopwords.\n",
    "\n",
    "- This function should define two optional parameters, extra_words and exclude_words. These parameters should define any additional stop words to include, and any words that we don't want to remove."
   ]
  },
  {
   "cell_type": "code",
   "execution_count": 33,
   "metadata": {},
   "outputs": [],
   "source": [
    "def remove_stopwords(article_processed,words_to_add=[],words_to_remove=[]):\n",
    "    ''' \n",
    "    takes in string, and two lists\n",
    "    creates list of words to remove from nltk, modifies as dictated in arguements\n",
    "    prints result of processing\n",
    "    returns resulting string\n",
    "    '''\n",
    "    from nltk.corpus import stopwords\n",
    "    #create the stopword list\n",
    "    stopwords_list = stopwords.words(\"english\")\n",
    "    #modify stopword list\n",
    "    [stopwords_list.append(word) for word in words_to_add]\n",
    "    [stopwords_list.remove(word) for word in words_to_remove]\n",
    "    #remove using stopword list\n",
    "    words = article_processed.split()\n",
    "    filtered_words = [w for w in words if w not in stopwords_list]\n",
    "    #filtered_words =[word for word in article_processed if word not in stopwords_list]\n",
    "    print(\"removed \",len(article_processed)-len(filtered_words), \"words\")\n",
    "    #join back\n",
    "    article_without_stopwords = \" \".join(filtered_words)\n",
    "    return article_without_stopwords"
   ]
  },
  {
   "cell_type": "markdown",
   "metadata": {},
   "source": [
    "# Use your data from the acquire to produce a dataframe of the news articles. Name the dataframe news_df."
   ]
  },
  {
   "cell_type": "code",
   "execution_count": 34,
   "metadata": {},
   "outputs": [
    {
     "data": {
      "text/html": [
       "<div>\n",
       "<style scoped>\n",
       "    .dataframe tbody tr th:only-of-type {\n",
       "        vertical-align: middle;\n",
       "    }\n",
       "\n",
       "    .dataframe tbody tr th {\n",
       "        vertical-align: top;\n",
       "    }\n",
       "\n",
       "    .dataframe thead th {\n",
       "        text-align: right;\n",
       "    }\n",
       "</style>\n",
       "<table border=\"1\" class=\"dataframe\">\n",
       "  <thead>\n",
       "    <tr style=\"text-align: right;\">\n",
       "      <th></th>\n",
       "      <th>title</th>\n",
       "      <th>content</th>\n",
       "      <th>category</th>\n",
       "    </tr>\n",
       "  </thead>\n",
       "  <tbody>\n",
       "    <tr>\n",
       "      <th>0</th>\n",
       "      <td>We do not support dual employment: Infosys on ...</td>\n",
       "      <td>Infosys CEO Salil Parekh spoke on the moonligh...</td>\n",
       "      <td>Business</td>\n",
       "    </tr>\n",
       "    <tr>\n",
       "      <th>1</th>\n",
       "      <td>Infosys' attrition drops to 27.1%, net employe...</td>\n",
       "      <td>Infosys on Thursday reported a 1.3% QoQ drop i...</td>\n",
       "      <td>Business</td>\n",
       "    </tr>\n",
       "    <tr>\n",
       "      <th>2</th>\n",
       "      <td>Mukesh Ambani visits Kedarnath &amp; Badrinath shr...</td>\n",
       "      <td>Reliance Industries Chairman Mukesh Ambani on ...</td>\n",
       "      <td>Business</td>\n",
       "    </tr>\n",
       "    <tr>\n",
       "      <th>3</th>\n",
       "      <td>IKEA lays off 10,000 employees after halting R...</td>\n",
       "      <td>Swedish ready-to-assemble furniture retailer I...</td>\n",
       "      <td>Business</td>\n",
       "    </tr>\n",
       "    <tr>\n",
       "      <th>4</th>\n",
       "      <td>Oct is 'biggest month' for crypto hacks as $71...</td>\n",
       "      <td>Blockchain analysis firm Chainalysis has said,...</td>\n",
       "      <td>Business</td>\n",
       "    </tr>\n",
       "  </tbody>\n",
       "</table>\n",
       "</div>"
      ],
      "text/plain": [
       "                                               title  \\\n",
       "0  We do not support dual employment: Infosys on ...   \n",
       "1  Infosys' attrition drops to 27.1%, net employe...   \n",
       "2  Mukesh Ambani visits Kedarnath & Badrinath shr...   \n",
       "3  IKEA lays off 10,000 employees after halting R...   \n",
       "4  Oct is 'biggest month' for crypto hacks as $71...   \n",
       "\n",
       "                                             content  category  \n",
       "0  Infosys CEO Salil Parekh spoke on the moonligh...  Business  \n",
       "1  Infosys on Thursday reported a 1.3% QoQ drop i...  Business  \n",
       "2  Reliance Industries Chairman Mukesh Ambani on ...  Business  \n",
       "3  Swedish ready-to-assemble furniture retailer I...  Business  \n",
       "4  Blockchain analysis firm Chainalysis has said,...  Business  "
      ]
     },
     "execution_count": 34,
     "metadata": {},
     "output_type": "execute_result"
    }
   ],
   "source": [
    "import acquire\n",
    "news_df = pd.DataFrame(acquire.get_news_articles())\n",
    "news_df0 = news_df.copy()\n",
    "news_df.head()"
   ]
  },
  {
   "cell_type": "markdown",
   "metadata": {},
   "source": [
    "# Make another dataframe for the Codeup blog posts. Name the dataframe codeup_df."
   ]
  },
  {
   "cell_type": "code",
   "execution_count": 35,
   "metadata": {},
   "outputs": [
    {
     "data": {
      "text/html": [
       "<div>\n",
       "<style scoped>\n",
       "    .dataframe tbody tr th:only-of-type {\n",
       "        vertical-align: middle;\n",
       "    }\n",
       "\n",
       "    .dataframe tbody tr th {\n",
       "        vertical-align: top;\n",
       "    }\n",
       "\n",
       "    .dataframe thead th {\n",
       "        text-align: right;\n",
       "    }\n",
       "</style>\n",
       "<table border=\"1\" class=\"dataframe\">\n",
       "  <thead>\n",
       "    <tr style=\"text-align: right;\">\n",
       "      <th></th>\n",
       "      <th>title</th>\n",
       "      <th>content</th>\n",
       "    </tr>\n",
       "  </thead>\n",
       "  <tbody>\n",
       "    <tr>\n",
       "      <th>0</th>\n",
       "      <td>Diversity Equity and Inclusion Report</td>\n",
       "      <td>Codeup is excited to launch our first Diversit...</td>\n",
       "    </tr>\n",
       "    <tr>\n",
       "      <th>1</th>\n",
       "      <td>Codeup Honored as SABJ Diversity and Inclusion...</td>\n",
       "      <td>Codeup has been named the 2022 Diversity and I...</td>\n",
       "    </tr>\n",
       "    <tr>\n",
       "      <th>2</th>\n",
       "      <td>How Can I Finance My Career Transition?</td>\n",
       "      <td>Deciding to transition into a tech career is a...</td>\n",
       "    </tr>\n",
       "    <tr>\n",
       "      <th>3</th>\n",
       "      <td>Tips for Women Beginning a Career in Tech</td>\n",
       "      <td>Codeup strongly values diversity, and inclusio...</td>\n",
       "    </tr>\n",
       "    <tr>\n",
       "      <th>4</th>\n",
       "      <td>What is Cloud Computing and AWS?</td>\n",
       "      <td>With many companies switching to cloud service...</td>\n",
       "    </tr>\n",
       "  </tbody>\n",
       "</table>\n",
       "</div>"
      ],
      "text/plain": [
       "                                               title  \\\n",
       "0              Diversity Equity and Inclusion Report   \n",
       "1  Codeup Honored as SABJ Diversity and Inclusion...   \n",
       "2            How Can I Finance My Career Transition?   \n",
       "3          Tips for Women Beginning a Career in Tech   \n",
       "4                   What is Cloud Computing and AWS?   \n",
       "\n",
       "                                             content  \n",
       "0  Codeup is excited to launch our first Diversit...  \n",
       "1  Codeup has been named the 2022 Diversity and I...  \n",
       "2  Deciding to transition into a tech career is a...  \n",
       "3  Codeup strongly values diversity, and inclusio...  \n",
       "4  With many companies switching to cloud service...  "
      ]
     },
     "execution_count": 35,
     "metadata": {},
     "output_type": "execute_result"
    }
   ],
   "source": [
    "codeup_df = pd.DataFrame(acquire.get_blog_content(\"https://codeup.com/blog/\"))\n",
    "codeup_df0 = codeup_df.copy()\n",
    "codeup_df.head()"
   ]
  },
  {
   "cell_type": "markdown",
   "metadata": {},
   "source": [
    "# For each dataframe, produce the following columns:\n",
    "- \n",
    "- title to hold the title\n",
    "- original to hold the original article/post content\n",
    "- clean to hold the normalized and tokenized original with the stopwords removed.\n",
    "- stemmed to hold the stemmed version of the cleaned data.\n",
    "- lemmatized to hold the lemmatized version of the cleaned data."
   ]
  },
  {
   "cell_type": "code",
   "execution_count": 36,
   "metadata": {},
   "outputs": [
    {
     "data": {
      "text/plain": [
       "(None, None)"
      ]
     },
     "execution_count": 36,
     "metadata": {},
     "output_type": "execute_result"
    }
   ],
   "source": [
    "codeup_df = codeup_df0.copy()\n",
    "news_df = news_df0.copy()\n",
    "codeup_df.rename(columns={\"content\":\"original\"},inplace=True)\n",
    "news_df.rename(columns={\"content\":\"original\"},inplace=True),news_df.drop(columns=\"category\",inplace=True)\n"
   ]
  },
  {
   "cell_type": "code",
   "execution_count": 37,
   "metadata": {},
   "outputs": [
    {
     "name": "stdout",
     "output_type": "stream",
     "text": [
      "removed  809 words\n",
      "removed  290 words\n",
      "removed  2073 words\n",
      "removed  1885 words\n",
      "removed  2536 words\n",
      "removed  404 words\n"
     ]
    },
    {
     "data": {
      "text/html": [
       "<div>\n",
       "<style scoped>\n",
       "    .dataframe tbody tr th:only-of-type {\n",
       "        vertical-align: middle;\n",
       "    }\n",
       "\n",
       "    .dataframe tbody tr th {\n",
       "        vertical-align: top;\n",
       "    }\n",
       "\n",
       "    .dataframe thead th {\n",
       "        text-align: right;\n",
       "    }\n",
       "</style>\n",
       "<table border=\"1\" class=\"dataframe\">\n",
       "  <thead>\n",
       "    <tr style=\"text-align: right;\">\n",
       "      <th></th>\n",
       "      <th>title</th>\n",
       "      <th>original</th>\n",
       "      <th>clean</th>\n",
       "    </tr>\n",
       "  </thead>\n",
       "  <tbody>\n",
       "    <tr>\n",
       "      <th>0</th>\n",
       "      <td>Diversity Equity and Inclusion Report</td>\n",
       "      <td>Codeup is excited to launch our first Diversit...</td>\n",
       "      <td>codeup excited launch first diversity equity i...</td>\n",
       "    </tr>\n",
       "    <tr>\n",
       "      <th>1</th>\n",
       "      <td>Codeup Honored as SABJ Diversity and Inclusion...</td>\n",
       "      <td>Codeup has been named the 2022 Diversity and I...</td>\n",
       "      <td>codeup named 2022 diversity inclusion award wi...</td>\n",
       "    </tr>\n",
       "    <tr>\n",
       "      <th>2</th>\n",
       "      <td>How Can I Finance My Career Transition?</td>\n",
       "      <td>Deciding to transition into a tech career is a...</td>\n",
       "      <td>deciding transition tech career big step signi...</td>\n",
       "    </tr>\n",
       "    <tr>\n",
       "      <th>3</th>\n",
       "      <td>Tips for Women Beginning a Career in Tech</td>\n",
       "      <td>Codeup strongly values diversity, and inclusio...</td>\n",
       "      <td>codeup strongly values diversity inclusion hon...</td>\n",
       "    </tr>\n",
       "    <tr>\n",
       "      <th>4</th>\n",
       "      <td>What is Cloud Computing and AWS?</td>\n",
       "      <td>With many companies switching to cloud service...</td>\n",
       "      <td>many companies switching cloud services implem...</td>\n",
       "    </tr>\n",
       "    <tr>\n",
       "      <th>5</th>\n",
       "      <td>2022 SABJ C-Suite Award Winner: Stephen Noteboom</td>\n",
       "      <td>Codeup’s Chief Operating Officer, Stephen Note...</td>\n",
       "      <td>codeups chief operating officer stephen notebo...</td>\n",
       "    </tr>\n",
       "  </tbody>\n",
       "</table>\n",
       "</div>"
      ],
      "text/plain": [
       "                                               title  \\\n",
       "0              Diversity Equity and Inclusion Report   \n",
       "1  Codeup Honored as SABJ Diversity and Inclusion...   \n",
       "2            How Can I Finance My Career Transition?   \n",
       "3          Tips for Women Beginning a Career in Tech   \n",
       "4                   What is Cloud Computing and AWS?   \n",
       "5   2022 SABJ C-Suite Award Winner: Stephen Noteboom   \n",
       "\n",
       "                                            original  \\\n",
       "0  Codeup is excited to launch our first Diversit...   \n",
       "1  Codeup has been named the 2022 Diversity and I...   \n",
       "2  Deciding to transition into a tech career is a...   \n",
       "3  Codeup strongly values diversity, and inclusio...   \n",
       "4  With many companies switching to cloud service...   \n",
       "5  Codeup’s Chief Operating Officer, Stephen Note...   \n",
       "\n",
       "                                               clean  \n",
       "0  codeup excited launch first diversity equity i...  \n",
       "1  codeup named 2022 diversity inclusion award wi...  \n",
       "2  deciding transition tech career big step signi...  \n",
       "3  codeup strongly values diversity inclusion hon...  \n",
       "4  many companies switching cloud services implem...  \n",
       "5  codeups chief operating officer stephen notebo...  "
      ]
     },
     "execution_count": 37,
     "metadata": {},
     "output_type": "execute_result"
    }
   ],
   "source": [
    "codeup_df[\"clean\"] = [remove_stopwords(tokenize(basic_clean(each))) for each in codeup_df.original]\n",
    "codeup_df"
   ]
  },
  {
   "cell_type": "code",
   "execution_count": 38,
   "metadata": {},
   "outputs": [
    {
     "data": {
      "text/html": [
       "<div>\n",
       "<style scoped>\n",
       "    .dataframe tbody tr th:only-of-type {\n",
       "        vertical-align: middle;\n",
       "    }\n",
       "\n",
       "    .dataframe tbody tr th {\n",
       "        vertical-align: top;\n",
       "    }\n",
       "\n",
       "    .dataframe thead th {\n",
       "        text-align: right;\n",
       "    }\n",
       "</style>\n",
       "<table border=\"1\" class=\"dataframe\">\n",
       "  <thead>\n",
       "    <tr style=\"text-align: right;\">\n",
       "      <th></th>\n",
       "      <th>title</th>\n",
       "      <th>original</th>\n",
       "      <th>clean</th>\n",
       "      <th>stemmed</th>\n",
       "    </tr>\n",
       "  </thead>\n",
       "  <tbody>\n",
       "    <tr>\n",
       "      <th>0</th>\n",
       "      <td>Diversity Equity and Inclusion Report</td>\n",
       "      <td>Codeup is excited to launch our first Diversit...</td>\n",
       "      <td>codeup excited launch first diversity equity i...</td>\n",
       "      <td>codeup excit launch first divers equiti inclus...</td>\n",
       "    </tr>\n",
       "    <tr>\n",
       "      <th>1</th>\n",
       "      <td>Codeup Honored as SABJ Diversity and Inclusion...</td>\n",
       "      <td>Codeup has been named the 2022 Diversity and I...</td>\n",
       "      <td>codeup named 2022 diversity inclusion award wi...</td>\n",
       "      <td>codeup name 2022 divers inclus award winner sa...</td>\n",
       "    </tr>\n",
       "    <tr>\n",
       "      <th>2</th>\n",
       "      <td>How Can I Finance My Career Transition?</td>\n",
       "      <td>Deciding to transition into a tech career is a...</td>\n",
       "      <td>deciding transition tech career big step signi...</td>\n",
       "      <td>decid transit tech career big step signific co...</td>\n",
       "    </tr>\n",
       "    <tr>\n",
       "      <th>3</th>\n",
       "      <td>Tips for Women Beginning a Career in Tech</td>\n",
       "      <td>Codeup strongly values diversity, and inclusio...</td>\n",
       "      <td>codeup strongly values diversity inclusion hon...</td>\n",
       "      <td>codeup strongli valu divers inclus honor ameri...</td>\n",
       "    </tr>\n",
       "    <tr>\n",
       "      <th>4</th>\n",
       "      <td>What is Cloud Computing and AWS?</td>\n",
       "      <td>With many companies switching to cloud service...</td>\n",
       "      <td>many companies switching cloud services implem...</td>\n",
       "      <td>mani compani switch cloud servic implement clo...</td>\n",
       "    </tr>\n",
       "    <tr>\n",
       "      <th>5</th>\n",
       "      <td>2022 SABJ C-Suite Award Winner: Stephen Noteboom</td>\n",
       "      <td>Codeup’s Chief Operating Officer, Stephen Note...</td>\n",
       "      <td>codeups chief operating officer stephen notebo...</td>\n",
       "      <td>codeup chief oper offic stephen noteboom 2022 ...</td>\n",
       "    </tr>\n",
       "  </tbody>\n",
       "</table>\n",
       "</div>"
      ],
      "text/plain": [
       "                                               title  \\\n",
       "0              Diversity Equity and Inclusion Report   \n",
       "1  Codeup Honored as SABJ Diversity and Inclusion...   \n",
       "2            How Can I Finance My Career Transition?   \n",
       "3          Tips for Women Beginning a Career in Tech   \n",
       "4                   What is Cloud Computing and AWS?   \n",
       "5   2022 SABJ C-Suite Award Winner: Stephen Noteboom   \n",
       "\n",
       "                                            original  \\\n",
       "0  Codeup is excited to launch our first Diversit...   \n",
       "1  Codeup has been named the 2022 Diversity and I...   \n",
       "2  Deciding to transition into a tech career is a...   \n",
       "3  Codeup strongly values diversity, and inclusio...   \n",
       "4  With many companies switching to cloud service...   \n",
       "5  Codeup’s Chief Operating Officer, Stephen Note...   \n",
       "\n",
       "                                               clean  \\\n",
       "0  codeup excited launch first diversity equity i...   \n",
       "1  codeup named 2022 diversity inclusion award wi...   \n",
       "2  deciding transition tech career big step signi...   \n",
       "3  codeup strongly values diversity inclusion hon...   \n",
       "4  many companies switching cloud services implem...   \n",
       "5  codeups chief operating officer stephen notebo...   \n",
       "\n",
       "                                             stemmed  \n",
       "0  codeup excit launch first divers equiti inclus...  \n",
       "1  codeup name 2022 divers inclus award winner sa...  \n",
       "2  decid transit tech career big step signific co...  \n",
       "3  codeup strongli valu divers inclus honor ameri...  \n",
       "4  mani compani switch cloud servic implement clo...  \n",
       "5  codeup chief oper offic stephen noteboom 2022 ...  "
      ]
     },
     "execution_count": 38,
     "metadata": {},
     "output_type": "execute_result"
    }
   ],
   "source": [
    "codeup_df[\"stemmed\"] = [stem(each) for each in codeup_df.clean]\n",
    "codeup_df"
   ]
  },
  {
   "cell_type": "code",
   "execution_count": 39,
   "metadata": {},
   "outputs": [
    {
     "data": {
      "text/html": [
       "<div>\n",
       "<style scoped>\n",
       "    .dataframe tbody tr th:only-of-type {\n",
       "        vertical-align: middle;\n",
       "    }\n",
       "\n",
       "    .dataframe tbody tr th {\n",
       "        vertical-align: top;\n",
       "    }\n",
       "\n",
       "    .dataframe thead th {\n",
       "        text-align: right;\n",
       "    }\n",
       "</style>\n",
       "<table border=\"1\" class=\"dataframe\">\n",
       "  <thead>\n",
       "    <tr style=\"text-align: right;\">\n",
       "      <th></th>\n",
       "      <th>title</th>\n",
       "      <th>original</th>\n",
       "      <th>clean</th>\n",
       "      <th>stemmed</th>\n",
       "      <th>lemmatized</th>\n",
       "    </tr>\n",
       "  </thead>\n",
       "  <tbody>\n",
       "    <tr>\n",
       "      <th>0</th>\n",
       "      <td>Diversity Equity and Inclusion Report</td>\n",
       "      <td>Codeup is excited to launch our first Diversit...</td>\n",
       "      <td>codeup excited launch first diversity equity i...</td>\n",
       "      <td>codeup excit launch first divers equiti inclus...</td>\n",
       "      <td>codeup excited launch first diversity equity i...</td>\n",
       "    </tr>\n",
       "    <tr>\n",
       "      <th>1</th>\n",
       "      <td>Codeup Honored as SABJ Diversity and Inclusion...</td>\n",
       "      <td>Codeup has been named the 2022 Diversity and I...</td>\n",
       "      <td>codeup named 2022 diversity inclusion award wi...</td>\n",
       "      <td>codeup name 2022 divers inclus award winner sa...</td>\n",
       "      <td>codeup named 2022 diversity inclusion award wi...</td>\n",
       "    </tr>\n",
       "    <tr>\n",
       "      <th>2</th>\n",
       "      <td>How Can I Finance My Career Transition?</td>\n",
       "      <td>Deciding to transition into a tech career is a...</td>\n",
       "      <td>deciding transition tech career big step signi...</td>\n",
       "      <td>decid transit tech career big step signific co...</td>\n",
       "      <td>deciding transition tech career big step signi...</td>\n",
       "    </tr>\n",
       "    <tr>\n",
       "      <th>3</th>\n",
       "      <td>Tips for Women Beginning a Career in Tech</td>\n",
       "      <td>Codeup strongly values diversity, and inclusio...</td>\n",
       "      <td>codeup strongly values diversity inclusion hon...</td>\n",
       "      <td>codeup strongli valu divers inclus honor ameri...</td>\n",
       "      <td>codeup strongly value diversity inclusion hono...</td>\n",
       "    </tr>\n",
       "    <tr>\n",
       "      <th>4</th>\n",
       "      <td>What is Cloud Computing and AWS?</td>\n",
       "      <td>With many companies switching to cloud service...</td>\n",
       "      <td>many companies switching cloud services implem...</td>\n",
       "      <td>mani compani switch cloud servic implement clo...</td>\n",
       "      <td>many company switching cloud service implement...</td>\n",
       "    </tr>\n",
       "    <tr>\n",
       "      <th>5</th>\n",
       "      <td>2022 SABJ C-Suite Award Winner: Stephen Noteboom</td>\n",
       "      <td>Codeup’s Chief Operating Officer, Stephen Note...</td>\n",
       "      <td>codeups chief operating officer stephen notebo...</td>\n",
       "      <td>codeup chief oper offic stephen noteboom 2022 ...</td>\n",
       "      <td>codeups chief operating officer stephen notebo...</td>\n",
       "    </tr>\n",
       "  </tbody>\n",
       "</table>\n",
       "</div>"
      ],
      "text/plain": [
       "                                               title  \\\n",
       "0              Diversity Equity and Inclusion Report   \n",
       "1  Codeup Honored as SABJ Diversity and Inclusion...   \n",
       "2            How Can I Finance My Career Transition?   \n",
       "3          Tips for Women Beginning a Career in Tech   \n",
       "4                   What is Cloud Computing and AWS?   \n",
       "5   2022 SABJ C-Suite Award Winner: Stephen Noteboom   \n",
       "\n",
       "                                            original  \\\n",
       "0  Codeup is excited to launch our first Diversit...   \n",
       "1  Codeup has been named the 2022 Diversity and I...   \n",
       "2  Deciding to transition into a tech career is a...   \n",
       "3  Codeup strongly values diversity, and inclusio...   \n",
       "4  With many companies switching to cloud service...   \n",
       "5  Codeup’s Chief Operating Officer, Stephen Note...   \n",
       "\n",
       "                                               clean  \\\n",
       "0  codeup excited launch first diversity equity i...   \n",
       "1  codeup named 2022 diversity inclusion award wi...   \n",
       "2  deciding transition tech career big step signi...   \n",
       "3  codeup strongly values diversity inclusion hon...   \n",
       "4  many companies switching cloud services implem...   \n",
       "5  codeups chief operating officer stephen notebo...   \n",
       "\n",
       "                                             stemmed  \\\n",
       "0  codeup excit launch first divers equiti inclus...   \n",
       "1  codeup name 2022 divers inclus award winner sa...   \n",
       "2  decid transit tech career big step signific co...   \n",
       "3  codeup strongli valu divers inclus honor ameri...   \n",
       "4  mani compani switch cloud servic implement clo...   \n",
       "5  codeup chief oper offic stephen noteboom 2022 ...   \n",
       "\n",
       "                                          lemmatized  \n",
       "0  codeup excited launch first diversity equity i...  \n",
       "1  codeup named 2022 diversity inclusion award wi...  \n",
       "2  deciding transition tech career big step signi...  \n",
       "3  codeup strongly value diversity inclusion hono...  \n",
       "4  many company switching cloud service implement...  \n",
       "5  codeups chief operating officer stephen notebo...  "
      ]
     },
     "execution_count": 39,
     "metadata": {},
     "output_type": "execute_result"
    }
   ],
   "source": [
    "codeup_df[\"lemmatized\"] = [lemmatize(each) for each in codeup_df.clean]\n",
    "codeup_df"
   ]
  },
  {
   "cell_type": "code",
   "execution_count": 45,
   "metadata": {},
   "outputs": [
    {
     "name": "stdout",
     "output_type": "stream",
     "text": [
      "removed  809 words\n",
      "removed  290 words\n",
      "removed  2073 words\n",
      "removed  1885 words\n",
      "removed  2536 words\n",
      "removed  404 words\n",
      "removed  318 words\n",
      "removed  324 words\n",
      "removed  257 words\n",
      "removed  313 words\n",
      "removed  318 words\n",
      "removed  351 words\n",
      "removed  346 words\n",
      "removed  331 words\n",
      "removed  326 words\n",
      "removed  328 words\n",
      "removed  303 words\n",
      "removed  326 words\n",
      "removed  294 words\n",
      "removed  305 words\n",
      "removed  286 words\n",
      "removed  302 words\n",
      "removed  336 words\n",
      "removed  286 words\n",
      "removed  311 words\n",
      "removed  282 words\n",
      "removed  259 words\n",
      "removed  305 words\n",
      "removed  317 words\n",
      "removed  307 words\n",
      "removed  336 words\n",
      "removed  319 words\n",
      "removed  284 words\n",
      "removed  331 words\n",
      "removed  315 words\n",
      "removed  346 words\n",
      "removed  318 words\n",
      "removed  325 words\n",
      "removed  296 words\n",
      "removed  334 words\n",
      "removed  303 words\n",
      "removed  305 words\n",
      "removed  311 words\n",
      "removed  289 words\n",
      "removed  285 words\n",
      "removed  305 words\n",
      "removed  322 words\n",
      "removed  294 words\n",
      "removed  325 words\n",
      "removed  289 words\n",
      "removed  302 words\n",
      "removed  289 words\n",
      "removed  296 words\n",
      "removed  324 words\n",
      "removed  275 words\n",
      "removed  315 words\n",
      "removed  315 words\n",
      "removed  318 words\n",
      "removed  333 words\n",
      "removed  259 words\n",
      "removed  306 words\n",
      "removed  348 words\n",
      "removed  324 words\n",
      "removed  312 words\n",
      "removed  299 words\n",
      "removed  291 words\n",
      "removed  333 words\n",
      "removed  344 words\n",
      "removed  331 words\n",
      "removed  311 words\n",
      "removed  339 words\n",
      "removed  335 words\n",
      "removed  326 words\n",
      "removed  351 words\n",
      "removed  327 words\n",
      "removed  347 words\n",
      "removed  351 words\n",
      "removed  332 words\n",
      "removed  268 words\n",
      "removed  317 words\n",
      "removed  309 words\n",
      "removed  298 words\n",
      "removed  319 words\n",
      "removed  314 words\n",
      "removed  311 words\n",
      "removed  316 words\n",
      "removed  319 words\n",
      "removed  332 words\n",
      "removed  321 words\n",
      "removed  317 words\n",
      "removed  306 words\n",
      "removed  284 words\n",
      "removed  300 words\n",
      "removed  345 words\n",
      "removed  318 words\n",
      "removed  274 words\n",
      "removed  300 words\n",
      "removed  306 words\n",
      "removed  297 words\n",
      "removed  311 words\n",
      "removed  317 words\n",
      "removed  313 words\n",
      "removed  319 words\n",
      "removed  307 words\n",
      "removed  327 words\n",
      "removed  307 words\n"
     ]
    }
   ],
   "source": [
    "import prepare\n",
    "codeup_df1,news_df1 = prepare.basic_pipeline(codeup=True,news=True,words_keep=[],words_drop=[])"
   ]
  },
  {
   "cell_type": "code",
   "execution_count": 43,
   "metadata": {},
   "outputs": [
    {
     "data": {
      "text/html": [
       "<div>\n",
       "<style scoped>\n",
       "    .dataframe tbody tr th:only-of-type {\n",
       "        vertical-align: middle;\n",
       "    }\n",
       "\n",
       "    .dataframe tbody tr th {\n",
       "        vertical-align: top;\n",
       "    }\n",
       "\n",
       "    .dataframe thead th {\n",
       "        text-align: right;\n",
       "    }\n",
       "</style>\n",
       "<table border=\"1\" class=\"dataframe\">\n",
       "  <thead>\n",
       "    <tr style=\"text-align: right;\">\n",
       "      <th></th>\n",
       "      <th>title</th>\n",
       "      <th>original</th>\n",
       "      <th>clean</th>\n",
       "      <th>stemmed</th>\n",
       "      <th>lemmatized</th>\n",
       "    </tr>\n",
       "  </thead>\n",
       "  <tbody>\n",
       "    <tr>\n",
       "      <th>0</th>\n",
       "      <td>Diversity Equity and Inclusion Report</td>\n",
       "      <td>Codeup is excited to launch our first Diversit...</td>\n",
       "      <td>codeup excited launch first diversity equity i...</td>\n",
       "      <td>codeup excit launch first divers equiti inclus...</td>\n",
       "      <td>codeup excited launch first diversity equity i...</td>\n",
       "    </tr>\n",
       "    <tr>\n",
       "      <th>1</th>\n",
       "      <td>Codeup Honored as SABJ Diversity and Inclusion...</td>\n",
       "      <td>Codeup has been named the 2022 Diversity and I...</td>\n",
       "      <td>codeup named 2022 diversity inclusion award wi...</td>\n",
       "      <td>codeup name 2022 divers inclus award winner sa...</td>\n",
       "      <td>codeup named 2022 diversity inclusion award wi...</td>\n",
       "    </tr>\n",
       "    <tr>\n",
       "      <th>2</th>\n",
       "      <td>How Can I Finance My Career Transition?</td>\n",
       "      <td>Deciding to transition into a tech career is a...</td>\n",
       "      <td>deciding transition tech career big step signi...</td>\n",
       "      <td>decid transit tech career big step signific co...</td>\n",
       "      <td>deciding transition tech career big step signi...</td>\n",
       "    </tr>\n",
       "    <tr>\n",
       "      <th>3</th>\n",
       "      <td>Tips for Women Beginning a Career in Tech</td>\n",
       "      <td>Codeup strongly values diversity, and inclusio...</td>\n",
       "      <td>codeup strongly values diversity inclusion hon...</td>\n",
       "      <td>codeup strongli valu divers inclus honor ameri...</td>\n",
       "      <td>codeup strongly value diversity inclusion hono...</td>\n",
       "    </tr>\n",
       "    <tr>\n",
       "      <th>4</th>\n",
       "      <td>What is Cloud Computing and AWS?</td>\n",
       "      <td>With many companies switching to cloud service...</td>\n",
       "      <td>many companies switching cloud services implem...</td>\n",
       "      <td>mani compani switch cloud servic implement clo...</td>\n",
       "      <td>many company switching cloud service implement...</td>\n",
       "    </tr>\n",
       "  </tbody>\n",
       "</table>\n",
       "</div>"
      ],
      "text/plain": [
       "                                               title  \\\n",
       "0              Diversity Equity and Inclusion Report   \n",
       "1  Codeup Honored as SABJ Diversity and Inclusion...   \n",
       "2            How Can I Finance My Career Transition?   \n",
       "3          Tips for Women Beginning a Career in Tech   \n",
       "4                   What is Cloud Computing and AWS?   \n",
       "\n",
       "                                            original  \\\n",
       "0  Codeup is excited to launch our first Diversit...   \n",
       "1  Codeup has been named the 2022 Diversity and I...   \n",
       "2  Deciding to transition into a tech career is a...   \n",
       "3  Codeup strongly values diversity, and inclusio...   \n",
       "4  With many companies switching to cloud service...   \n",
       "\n",
       "                                               clean  \\\n",
       "0  codeup excited launch first diversity equity i...   \n",
       "1  codeup named 2022 diversity inclusion award wi...   \n",
       "2  deciding transition tech career big step signi...   \n",
       "3  codeup strongly values diversity inclusion hon...   \n",
       "4  many companies switching cloud services implem...   \n",
       "\n",
       "                                             stemmed  \\\n",
       "0  codeup excit launch first divers equiti inclus...   \n",
       "1  codeup name 2022 divers inclus award winner sa...   \n",
       "2  decid transit tech career big step signific co...   \n",
       "3  codeup strongli valu divers inclus honor ameri...   \n",
       "4  mani compani switch cloud servic implement clo...   \n",
       "\n",
       "                                          lemmatized  \n",
       "0  codeup excited launch first diversity equity i...  \n",
       "1  codeup named 2022 diversity inclusion award wi...  \n",
       "2  deciding transition tech career big step signi...  \n",
       "3  codeup strongly value diversity inclusion hono...  \n",
       "4  many company switching cloud service implement...  "
      ]
     },
     "execution_count": 43,
     "metadata": {},
     "output_type": "execute_result"
    }
   ],
   "source": [
    "codeup_df1.head()"
   ]
  },
  {
   "cell_type": "code",
   "execution_count": 44,
   "metadata": {},
   "outputs": [
    {
     "data": {
      "text/html": [
       "<div>\n",
       "<style scoped>\n",
       "    .dataframe tbody tr th:only-of-type {\n",
       "        vertical-align: middle;\n",
       "    }\n",
       "\n",
       "    .dataframe tbody tr th {\n",
       "        vertical-align: top;\n",
       "    }\n",
       "\n",
       "    .dataframe thead th {\n",
       "        text-align: right;\n",
       "    }\n",
       "</style>\n",
       "<table border=\"1\" class=\"dataframe\">\n",
       "  <thead>\n",
       "    <tr style=\"text-align: right;\">\n",
       "      <th></th>\n",
       "      <th>title</th>\n",
       "      <th>original</th>\n",
       "      <th>clean</th>\n",
       "      <th>stemmed</th>\n",
       "      <th>lemmatized</th>\n",
       "    </tr>\n",
       "  </thead>\n",
       "  <tbody>\n",
       "    <tr>\n",
       "      <th>0</th>\n",
       "      <td>We do not support dual employment: Infosys on ...</td>\n",
       "      <td>Infosys CEO Salil Parekh spoke on the moonligh...</td>\n",
       "      <td>infosys ceo salil parekh spoke moonlighting de...</td>\n",
       "      <td>infosi ceo salil parekh spoke moonlight debat ...</td>\n",
       "      <td>infosys ceo salil parekh spoke moonlighting de...</td>\n",
       "    </tr>\n",
       "    <tr>\n",
       "      <th>1</th>\n",
       "      <td>Infosys' attrition drops to 27.1%, net employe...</td>\n",
       "      <td>Infosys on Thursday reported a 1.3% QoQ drop i...</td>\n",
       "      <td>infosys thursday reported 13 qoq drop voluntar...</td>\n",
       "      <td>infosi thursday report 13 qoq drop voluntari a...</td>\n",
       "      <td>infosys thursday reported 13 qoq drop voluntar...</td>\n",
       "    </tr>\n",
       "    <tr>\n",
       "      <th>2</th>\n",
       "      <td>Mukesh Ambani visits Kedarnath &amp; Badrinath shr...</td>\n",
       "      <td>Reliance Industries Chairman Mukesh Ambani on ...</td>\n",
       "      <td>reliance industries chairman mukesh ambani thu...</td>\n",
       "      <td>relianc industri chairman mukesh ambani thursd...</td>\n",
       "      <td>reliance industry chairman mukesh ambani thurs...</td>\n",
       "    </tr>\n",
       "    <tr>\n",
       "      <th>3</th>\n",
       "      <td>IKEA lays off 10,000 employees after halting R...</td>\n",
       "      <td>Swedish ready-to-assemble furniture retailer I...</td>\n",
       "      <td>swedish readytoassemble furniture retailer ike...</td>\n",
       "      <td>swedish readytoassembl furnitur retail ikea sa...</td>\n",
       "      <td>swedish readytoassemble furniture retailer ike...</td>\n",
       "    </tr>\n",
       "    <tr>\n",
       "      <th>4</th>\n",
       "      <td>Oct is 'biggest month' for crypto hacks as $71...</td>\n",
       "      <td>Blockchain analysis firm Chainalysis has said,...</td>\n",
       "      <td>blockchain analysis firm chainalysis said octo...</td>\n",
       "      <td>blockchain analysi firm chainalysi said octob ...</td>\n",
       "      <td>blockchain analysis firm chainalysis said octo...</td>\n",
       "    </tr>\n",
       "  </tbody>\n",
       "</table>\n",
       "</div>"
      ],
      "text/plain": [
       "                                               title  \\\n",
       "0  We do not support dual employment: Infosys on ...   \n",
       "1  Infosys' attrition drops to 27.1%, net employe...   \n",
       "2  Mukesh Ambani visits Kedarnath & Badrinath shr...   \n",
       "3  IKEA lays off 10,000 employees after halting R...   \n",
       "4  Oct is 'biggest month' for crypto hacks as $71...   \n",
       "\n",
       "                                            original  \\\n",
       "0  Infosys CEO Salil Parekh spoke on the moonligh...   \n",
       "1  Infosys on Thursday reported a 1.3% QoQ drop i...   \n",
       "2  Reliance Industries Chairman Mukesh Ambani on ...   \n",
       "3  Swedish ready-to-assemble furniture retailer I...   \n",
       "4  Blockchain analysis firm Chainalysis has said,...   \n",
       "\n",
       "                                               clean  \\\n",
       "0  infosys ceo salil parekh spoke moonlighting de...   \n",
       "1  infosys thursday reported 13 qoq drop voluntar...   \n",
       "2  reliance industries chairman mukesh ambani thu...   \n",
       "3  swedish readytoassemble furniture retailer ike...   \n",
       "4  blockchain analysis firm chainalysis said octo...   \n",
       "\n",
       "                                             stemmed  \\\n",
       "0  infosi ceo salil parekh spoke moonlight debat ...   \n",
       "1  infosi thursday report 13 qoq drop voluntari a...   \n",
       "2  relianc industri chairman mukesh ambani thursd...   \n",
       "3  swedish readytoassembl furnitur retail ikea sa...   \n",
       "4  blockchain analysi firm chainalysi said octob ...   \n",
       "\n",
       "                                          lemmatized  \n",
       "0  infosys ceo salil parekh spoke moonlighting de...  \n",
       "1  infosys thursday reported 13 qoq drop voluntar...  \n",
       "2  reliance industry chairman mukesh ambani thurs...  \n",
       "3  swedish readytoassemble furniture retailer ike...  \n",
       "4  blockchain analysis firm chainalysis said octo...  "
      ]
     },
     "execution_count": 44,
     "metadata": {},
     "output_type": "execute_result"
    }
   ],
   "source": [
    "news_df1.head()"
   ]
  },
  {
   "cell_type": "code",
   "execution_count": null,
   "metadata": {},
   "outputs": [],
   "source": [
    "''''''"
   ]
  },
  {
   "cell_type": "markdown",
   "metadata": {},
   "source": [
    "# Ask yourself:\n",
    "\n",
    "- If your corpus is 493KB, would you prefer to use stemmed or lemmatized text?\n",
    "  - \"lemmed\"\n",
    "- If your corpus is 25MB, would you prefer to use stemmed or lemmatized text?\n",
    "  - \"lemmed\" (could go either depending on use case)\n",
    "- If your corpus is 200TB of text and you're charged by the megabyte for your hosted computational resources, would you prefer to use stemmed or lemmatized text?\n",
    "  - \"stemmed\" but maybe neither, stemmed seems to give back really bad results"
   ]
  },
  {
   "cell_type": "markdown",
   "metadata": {},
   "source": []
  }
 ],
 "metadata": {
  "kernelspec": {
   "display_name": "Python 3.9.13 ('base')",
   "language": "python",
   "name": "python3"
  },
  "language_info": {
   "codemirror_mode": {
    "name": "ipython",
    "version": 3
   },
   "file_extension": ".py",
   "mimetype": "text/x-python",
   "name": "python",
   "nbconvert_exporter": "python",
   "pygments_lexer": "ipython3",
   "version": "3.9.13"
  },
  "orig_nbformat": 4,
  "vscode": {
   "interpreter": {
    "hash": "3067ead486e059ec00ffe7555bdb889e6e264a24dc711bf108106cc7baee8d5d"
   }
  }
 },
 "nbformat": 4,
 "nbformat_minor": 2
}
