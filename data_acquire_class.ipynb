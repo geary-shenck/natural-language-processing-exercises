{
 "cells": [
  {
   "cell_type": "code",
   "execution_count": 103,
   "metadata": {},
   "outputs": [],
   "source": [
    "from requests import get\n",
    "from bs4 import BeautifulSoup\n",
    "import pandas as pd\n",
    "import os\n",
    "import re"
   ]
  },
  {
   "cell_type": "markdown",
   "metadata": {},
   "source": [
    "# go to bottom for exercises"
   ]
  },
  {
   "cell_type": "code",
   "execution_count": 2,
   "metadata": {},
   "outputs": [],
   "source": [
    "url0 = \"https://site-to-scrape.glitch.me\""
   ]
  },
  {
   "cell_type": "code",
   "execution_count": 3,
   "metadata": {},
   "outputs": [
    {
     "data": {
      "text/plain": [
       "<Response [200]>"
      ]
     },
     "execution_count": 3,
     "metadata": {},
     "output_type": "execute_result"
    }
   ],
   "source": [
    "get(url0) ## response code 200 is successful"
   ]
  },
  {
   "cell_type": "code",
   "execution_count": 4,
   "metadata": {},
   "outputs": [
    {
     "data": {
      "text/plain": [
       "b'<!DOCTYPE html>\\n<html lang=\"en\">\\n  <head>\\n    <title>Site to Scrape!</title>\\n    <meta charset=\"utf-8\">\\n    <meta http-equiv=\"X-UA-Compatible\" content=\"IE=edge\">\\n    <meta name=\"viewport\" content=\"width=device-width, initial-scale=1\">\\n    \\n    <!-- import the webpage\\'s stylesheet -->\\n    <link rel=\"stylesheet\" href=\"/style.css\">\\n    \\n    <!-- import the webpage\\'s javascript file -->\\n    <script src=\"/script.js\" defer></script>\\n  </head>  \\n  <body>\\n    <header>\\n      <h1>This is the header!</h1>\\n      <hr>\\n    </header>\\n    \\n    <main>\\n      <div>\\n        <h1 class=\"first\">\\n        This is the main\\n        </h1>\\n        <h2>\\n          This is an h2 of main\\n        </h2>\\n        <h3>\\n          H3 inside of first div inside of main\\n        </h3>\\n      </div>\\n      <div>\\n        <h3 class=\"first\">\\n          H3 inside of second div inside of main.\\n        </h3>\\n        <p>\\n          Here\\'s some text content for us to scrape! \\xf0\\x9f\\x91\\xbd\\n        </p>\\n        <p>\\n          Here\\'s another paragraph of content! \\xe2\\x98\\xa0\\xef\\xb8\\x8f\\n        </p>\\n        <a href=\"https://github.com/ryanorsinger\">Click here to visit my portfolio</a>       \\n      </div>\\n    </main>\\n\\n    <footer>\\n      <h1>This is the footer</h1>\\n      <img src=\"https://traffic-analytics.glitch.me/counter.png?fallback=MY_WEBSITE&color=black\" alt=\"\" style=\"vertical-align: bottom;\" aria-hidden=\"true\">\\n    </footer>\\n\\n  </body>\\n</html>\\n'"
      ]
     },
     "execution_count": 4,
     "metadata": {},
     "output_type": "execute_result"
    }
   ],
   "source": [
    "get(url0).content"
   ]
  },
  {
   "cell_type": "code",
   "execution_count": 5,
   "metadata": {},
   "outputs": [],
   "source": [
    "#utilizng beautiful soup\n",
    "#make a soup:\n",
    "#recipe:\n",
    "#call BS on content of response\n",
    "soup = BeautifulSoup(get(url0).content,\"html.parser\")"
   ]
  },
  {
   "cell_type": "code",
   "execution_count": 6,
   "metadata": {},
   "outputs": [
    {
     "data": {
      "text/plain": [
       "<!DOCTYPE html>\n",
       "\n",
       "<html lang=\"en\">\n",
       "<head>\n",
       "<title>Site to Scrape!</title>\n",
       "<meta charset=\"utf-8\"/>\n",
       "<meta content=\"IE=edge\" http-equiv=\"X-UA-Compatible\"/>\n",
       "<meta content=\"width=device-width, initial-scale=1\" name=\"viewport\"/>\n",
       "<!-- import the webpage's stylesheet -->\n",
       "<link href=\"/style.css\" rel=\"stylesheet\"/>\n",
       "<!-- import the webpage's javascript file -->\n",
       "<script defer=\"\" src=\"/script.js\"></script>\n",
       "</head>\n",
       "<body>\n",
       "<header>\n",
       "<h1>This is the header!</h1>\n",
       "<hr/>\n",
       "</header>\n",
       "<main>\n",
       "<div>\n",
       "<h1 class=\"first\">\n",
       "        This is the main\n",
       "        </h1>\n",
       "<h2>\n",
       "          This is an h2 of main\n",
       "        </h2>\n",
       "<h3>\n",
       "          H3 inside of first div inside of main\n",
       "        </h3>\n",
       "</div>\n",
       "<div>\n",
       "<h3 class=\"first\">\n",
       "          H3 inside of second div inside of main.\n",
       "        </h3>\n",
       "<p>\n",
       "          Here's some text content for us to scrape! 👽\n",
       "        </p>\n",
       "<p>\n",
       "          Here's another paragraph of content! ☠️\n",
       "        </p>\n",
       "<a href=\"https://github.com/ryanorsinger\">Click here to visit my portfolio</a>\n",
       "</div>\n",
       "</main>\n",
       "<footer>\n",
       "<h1>This is the footer</h1>\n",
       "<img alt=\"\" aria-hidden=\"true\" src=\"https://traffic-analytics.glitch.me/counter.png?fallback=MY_WEBSITE&amp;color=black\" style=\"vertical-align: bottom;\"/>\n",
       "</footer>\n",
       "</body>\n",
       "</html>"
      ]
     },
     "execution_count": 6,
     "metadata": {},
     "output_type": "execute_result"
    }
   ],
   "source": [
    "# if we look at soup its of the same structure as the text but a little cleaner \n",
    "# and futhermore its a new object -- BeautifulSoup\n",
    "soup"
   ]
  },
  {
   "cell_type": "code",
   "execution_count": 7,
   "metadata": {},
   "outputs": [
    {
     "data": {
      "text/plain": [
       "'<!DOCTYPE html>\\n<html lang=\"en\">\\n <head>\\n  <title>\\n   Site to Scrape!\\n  </title>\\n  <meta charset=\"utf-8\"/>\\n  <meta content=\"IE=edge\" http-equiv=\"X-UA-Compatible\"/>\\n  <meta content=\"width=device-width, initial-scale=1\" name=\"viewport\"/>\\n  <!-- import the webpage\\'s stylesheet -->\\n  <link href=\"/style.css\" rel=\"stylesheet\"/>\\n  <!-- import the webpage\\'s javascript file -->\\n  <script defer=\"\" src=\"/script.js\">\\n  </script>\\n </head>\\n <body>\\n  <header>\\n   <h1>\\n    This is the header!\\n   </h1>\\n   <hr/>\\n  </header>\\n  <main>\\n   <div>\\n    <h1 class=\"first\">\\n     This is the main\\n    </h1>\\n    <h2>\\n     This is an h2 of main\\n    </h2>\\n    <h3>\\n     H3 inside of first div inside of main\\n    </h3>\\n   </div>\\n   <div>\\n    <h3 class=\"first\">\\n     H3 inside of second div inside of main.\\n    </h3>\\n    <p>\\n     Here\\'s some text content for us to scrape! 👽\\n    </p>\\n    <p>\\n     Here\\'s another paragraph of content! ☠️\\n    </p>\\n    <a href=\"https://github.com/ryanorsinger\">\\n     Click here to visit my portfolio\\n    </a>\\n   </div>\\n  </main>\\n  <footer>\\n   <h1>\\n    This is the footer\\n   </h1>\\n   <img alt=\"\" aria-hidden=\"true\" src=\"https://traffic-analytics.glitch.me/counter.png?fallback=MY_WEBSITE&amp;color=black\" style=\"vertical-align: bottom;\"/>\\n  </footer>\\n </body>\\n</html>\\n'"
      ]
     },
     "execution_count": 7,
     "metadata": {},
     "output_type": "execute_result"
    }
   ],
   "source": [
    "soup.prettify()"
   ]
  },
  {
   "cell_type": "code",
   "execution_count": 8,
   "metadata": {},
   "outputs": [
    {
     "data": {
      "text/plain": [
       "<head>\n",
       "<title>Site to Scrape!</title>\n",
       "<meta charset=\"utf-8\"/>\n",
       "<meta content=\"IE=edge\" http-equiv=\"X-UA-Compatible\"/>\n",
       "<meta content=\"width=device-width, initial-scale=1\" name=\"viewport\"/>\n",
       "<!-- import the webpage's stylesheet -->\n",
       "<link href=\"/style.css\" rel=\"stylesheet\"/>\n",
       "<!-- import the webpage's javascript file -->\n",
       "<script defer=\"\" src=\"/script.js\"></script>\n",
       "</head>"
      ]
     },
     "execution_count": 8,
     "metadata": {},
     "output_type": "execute_result"
    }
   ],
   "source": [
    "# <tag>\n",
    "# some stuff\n",
    "# <\\ tag>\n",
    "# among the things we can do, we can reference elements directly\n",
    "soup.head"
   ]
  },
  {
   "cell_type": "code",
   "execution_count": 9,
   "metadata": {},
   "outputs": [
    {
     "data": {
      "text/plain": [
       "<title>Site to Scrape!</title>"
      ]
     },
     "execution_count": 9,
     "metadata": {},
     "output_type": "execute_result"
    }
   ],
   "source": [
    "soup.head.title"
   ]
  },
  {
   "cell_type": "code",
   "execution_count": 10,
   "metadata": {},
   "outputs": [
    {
     "data": {
      "text/plain": [
       "<title>Site to Scrape!</title>"
      ]
     },
     "execution_count": 10,
     "metadata": {},
     "output_type": "execute_result"
    }
   ],
   "source": [
    "soup.title"
   ]
  },
  {
   "cell_type": "code",
   "execution_count": 11,
   "metadata": {},
   "outputs": [
    {
     "data": {
      "text/plain": [
       "<p>\n",
       "          Here's some text content for us to scrape! 👽\n",
       "        </p>"
      ]
     },
     "execution_count": 11,
     "metadata": {},
     "output_type": "execute_result"
    }
   ],
   "source": [
    "soup.p\n",
    "##but there's more than one p"
   ]
  },
  {
   "cell_type": "code",
   "execution_count": 12,
   "metadata": {},
   "outputs": [
    {
     "data": {
      "text/plain": [
       "<p>\n",
       "          Here's some text content for us to scrape! 👽\n",
       "        </p>"
      ]
     },
     "execution_count": 12,
     "metadata": {},
     "output_type": "execute_result"
    }
   ],
   "source": [
    "soup.find(\"p\")\n",
    "## nope, find does find first"
   ]
  },
  {
   "cell_type": "code",
   "execution_count": 13,
   "metadata": {},
   "outputs": [
    {
     "data": {
      "text/plain": [
       "[<p>\n",
       "           Here's some text content for us to scrape! 👽\n",
       "         </p>,\n",
       " <p>\n",
       "           Here's another paragraph of content! ☠️\n",
       "         </p>]"
      ]
     },
     "execution_count": 13,
     "metadata": {},
     "output_type": "execute_result"
    }
   ],
   "source": [
    "soup.find_all(\"p\")"
   ]
  },
  {
   "cell_type": "code",
   "execution_count": 14,
   "metadata": {},
   "outputs": [
    {
     "data": {
      "text/plain": [
       "<p>\n",
       "          Here's another paragraph of content! ☠️\n",
       "        </p>"
      ]
     },
     "execution_count": 14,
     "metadata": {},
     "output_type": "execute_result"
    }
   ],
   "source": [
    "soup.find_all(\"p\")[1]\n",
    "## can reference as a list, but it is not a list"
   ]
  },
  {
   "cell_type": "code",
   "execution_count": 15,
   "metadata": {},
   "outputs": [
    {
     "data": {
      "text/plain": [
       "\"Here's another paragraph of content! ☠️\""
      ]
     },
     "execution_count": 15,
     "metadata": {},
     "output_type": "execute_result"
    }
   ],
   "source": [
    "soup.find_all(\"p\")[1].text.strip()"
   ]
  },
  {
   "cell_type": "code",
   "execution_count": 16,
   "metadata": {},
   "outputs": [
    {
     "data": {
      "text/plain": [
       "[<h1>This is the header!</h1>,\n",
       " <h1 class=\"first\">\n",
       "         This is the main\n",
       "         </h1>,\n",
       " <h1>This is the footer</h1>]"
      ]
     },
     "execution_count": 16,
     "metadata": {},
     "output_type": "execute_result"
    }
   ],
   "source": [
    "## select will grab all css elements in apage:\n",
    "#equivalents: select_one is like find\n",
    "#select is like find_all\n",
    "soup.select(\"h1\")"
   ]
  },
  {
   "cell_type": "code",
   "execution_count": 17,
   "metadata": {},
   "outputs": [
    {
     "data": {
      "text/plain": [
       "['This is the header!', 'This is the main', 'This is the footer']"
      ]
     },
     "execution_count": 17,
     "metadata": {},
     "output_type": "execute_result"
    }
   ],
   "source": [
    "[thing.text.strip() for thing in soup.select(\"h1\")]"
   ]
  },
  {
   "cell_type": "markdown",
   "metadata": {},
   "source": [
    "# build on content\n",
    "- new task\n",
    " - examine new url\n",
    " - figure out what we want\n",
    " - figure out how to grab\n",
    " - figure out how to do it programmically"
   ]
  },
  {
   "cell_type": "code",
   "execution_count": 18,
   "metadata": {},
   "outputs": [
    {
     "data": {
      "text/plain": [
       "[<p> 2016-05-19 </p>,\n",
       " <p class=\"text-right\">By Christopher Payne </p>,\n",
       " <p>Seek very capital allow high you oil area. House recent trip lot discuss never million national.\n",
       " Try brother and company plant old cup. Smile popular education firm long ever.</p>]"
      ]
     },
     "execution_count": 18,
     "metadata": {},
     "output_type": "execute_result"
    }
   ],
   "source": [
    "url1 = \"https://web-scraping-demo.zgulde.net/news\"\n",
    "get(url1)\n",
    "soup = BeautifulSoup(get(url1).content)\n",
    "soup.head()\n",
    "articles = soup.select(\"div.grid.grid-cols-4\")\n",
    "articles[0].find_all(\"p\")"
   ]
  },
  {
   "cell_type": "code",
   "execution_count": 19,
   "metadata": {},
   "outputs": [],
   "source": [
    "def get_article_content(some_article):\n",
    "    ''' \n",
    "    grab content with bs object\n",
    "    for each article in overall set of article\n",
    "    '''\n",
    "    output={}\n",
    "    output[\"headline\"] = some_article.find('h2').text.strip()\n",
    "    output[\"date\"], output[\"author\"], output[\"content\"] = \\\n",
    "        [thing.text.strip() for thing in some_article.find_all(\"p\")]\n",
    "    return output"
   ]
  },
  {
   "cell_type": "code",
   "execution_count": 20,
   "metadata": {},
   "outputs": [],
   "source": [
    "def acquire_article(url):\n",
    "    ''' \n",
    "    given a url with expected structure, acuqire iwth pull content of web page\n",
    "    and return dataframe of all article in side page\n",
    "    '''\n",
    "\n",
    "    soup = BeautifulSoup(get(url).content)\n",
    "    articles = soup.select('div.grid.grid-cols-4')\n",
    "    return pd.DataFrame([get_article_content(article) for article in articles])\n"
   ]
  },
  {
   "cell_type": "code",
   "execution_count": 21,
   "metadata": {},
   "outputs": [
    {
     "data": {
      "text/html": [
       "<div>\n",
       "<style scoped>\n",
       "    .dataframe tbody tr th:only-of-type {\n",
       "        vertical-align: middle;\n",
       "    }\n",
       "\n",
       "    .dataframe tbody tr th {\n",
       "        vertical-align: top;\n",
       "    }\n",
       "\n",
       "    .dataframe thead th {\n",
       "        text-align: right;\n",
       "    }\n",
       "</style>\n",
       "<table border=\"1\" class=\"dataframe\">\n",
       "  <thead>\n",
       "    <tr style=\"text-align: right;\">\n",
       "      <th></th>\n",
       "      <th>headline</th>\n",
       "      <th>date</th>\n",
       "      <th>author</th>\n",
       "      <th>content</th>\n",
       "    </tr>\n",
       "  </thead>\n",
       "  <tbody>\n",
       "    <tr>\n",
       "      <th>0</th>\n",
       "      <td>low listen third</td>\n",
       "      <td>2005-12-08</td>\n",
       "      <td>By Kathleen Moreno</td>\n",
       "      <td>Teacher blood together reach not beautiful.\\nF...</td>\n",
       "    </tr>\n",
       "    <tr>\n",
       "      <th>1</th>\n",
       "      <td>clear while drive</td>\n",
       "      <td>1986-02-24</td>\n",
       "      <td>By Amy Cline</td>\n",
       "      <td>That head reduce would agree. Green yet prove ...</td>\n",
       "    </tr>\n",
       "    <tr>\n",
       "      <th>2</th>\n",
       "      <td>fact little ahead</td>\n",
       "      <td>2003-04-26</td>\n",
       "      <td>By Kurt Adams</td>\n",
       "      <td>Station simple girl admit lot age speech. Buil...</td>\n",
       "    </tr>\n",
       "    <tr>\n",
       "      <th>3</th>\n",
       "      <td>operation age wind</td>\n",
       "      <td>2016-07-21</td>\n",
       "      <td>By Rachel Gonzales</td>\n",
       "      <td>Cover tell away nearly wife age available. Sub...</td>\n",
       "    </tr>\n",
       "    <tr>\n",
       "      <th>4</th>\n",
       "      <td>common age another</td>\n",
       "      <td>2010-12-27</td>\n",
       "      <td>By Kelly Mayo</td>\n",
       "      <td>Realize bring option available air. Born offic...</td>\n",
       "    </tr>\n",
       "    <tr>\n",
       "      <th>5</th>\n",
       "      <td>window above wrong</td>\n",
       "      <td>1980-07-02</td>\n",
       "      <td>By Jacqueline Garcia</td>\n",
       "      <td>Professional meeting natural ask guess style. ...</td>\n",
       "    </tr>\n",
       "    <tr>\n",
       "      <th>6</th>\n",
       "      <td>gun consumer successful</td>\n",
       "      <td>1978-06-25</td>\n",
       "      <td>By Michael Patton</td>\n",
       "      <td>Back shake become pretty.\\nWater discussion ol...</td>\n",
       "    </tr>\n",
       "    <tr>\n",
       "      <th>7</th>\n",
       "      <td>herself face hotel</td>\n",
       "      <td>1995-02-28</td>\n",
       "      <td>By Paige Ellis</td>\n",
       "      <td>Edge return live. Sea fine hope campaign littl...</td>\n",
       "    </tr>\n",
       "    <tr>\n",
       "      <th>8</th>\n",
       "      <td>today course five</td>\n",
       "      <td>1980-02-27</td>\n",
       "      <td>By Brianna Jones</td>\n",
       "      <td>Rich build participant sound item. Break age h...</td>\n",
       "    </tr>\n",
       "    <tr>\n",
       "      <th>9</th>\n",
       "      <td>partner try watch</td>\n",
       "      <td>1978-07-07</td>\n",
       "      <td>By Shannon Ellis</td>\n",
       "      <td>Executive return student own however. Main mov...</td>\n",
       "    </tr>\n",
       "    <tr>\n",
       "      <th>10</th>\n",
       "      <td>pretty day prove</td>\n",
       "      <td>1992-05-26</td>\n",
       "      <td>By Megan Sawyer</td>\n",
       "      <td>Spend tough industry us. Others will modern ce...</td>\n",
       "    </tr>\n",
       "    <tr>\n",
       "      <th>11</th>\n",
       "      <td>media today modern</td>\n",
       "      <td>2015-11-11</td>\n",
       "      <td>By Beth Zuniga</td>\n",
       "      <td>Effect him then. Sea share task.\\nWait end pie...</td>\n",
       "    </tr>\n",
       "  </tbody>\n",
       "</table>\n",
       "</div>"
      ],
      "text/plain": [
       "                   headline        date                author  \\\n",
       "0          low listen third  2005-12-08    By Kathleen Moreno   \n",
       "1         clear while drive  1986-02-24          By Amy Cline   \n",
       "2         fact little ahead  2003-04-26         By Kurt Adams   \n",
       "3        operation age wind  2016-07-21    By Rachel Gonzales   \n",
       "4        common age another  2010-12-27         By Kelly Mayo   \n",
       "5        window above wrong  1980-07-02  By Jacqueline Garcia   \n",
       "6   gun consumer successful  1978-06-25     By Michael Patton   \n",
       "7        herself face hotel  1995-02-28        By Paige Ellis   \n",
       "8         today course five  1980-02-27      By Brianna Jones   \n",
       "9         partner try watch  1978-07-07      By Shannon Ellis   \n",
       "10         pretty day prove  1992-05-26       By Megan Sawyer   \n",
       "11       media today modern  2015-11-11        By Beth Zuniga   \n",
       "\n",
       "                                              content  \n",
       "0   Teacher blood together reach not beautiful.\\nF...  \n",
       "1   That head reduce would agree. Green yet prove ...  \n",
       "2   Station simple girl admit lot age speech. Buil...  \n",
       "3   Cover tell away nearly wife age available. Sub...  \n",
       "4   Realize bring option available air. Born offic...  \n",
       "5   Professional meeting natural ask guess style. ...  \n",
       "6   Back shake become pretty.\\nWater discussion ol...  \n",
       "7   Edge return live. Sea fine hope campaign littl...  \n",
       "8   Rich build participant sound item. Break age h...  \n",
       "9   Executive return student own however. Main mov...  \n",
       "10  Spend tough industry us. Others will modern ce...  \n",
       "11  Effect him then. Sea share task.\\nWait end pie...  "
      ]
     },
     "execution_count": 21,
     "metadata": {},
     "output_type": "execute_result"
    }
   ],
   "source": [
    "acquire_article(url1)"
   ]
  },
  {
   "cell_type": "markdown",
   "metadata": {},
   "source": [
    "# Codeup Blog Articles\n",
    "\n",
    "Visit Codeup's Blog and record the urls for at least 5 distinct blog posts. For each post, you should scrape at least the post's title and content.\n",
    "\n",
    "Encapsulate your work in a function named get_blog_articles that will return a list of dictionaries, with each dictionary representing one article. The shape of each dictionary should look like this:"
   ]
  },
  {
   "cell_type": "code",
   "execution_count": 190,
   "metadata": {},
   "outputs": [],
   "source": [
    "def get_blog_articles():\n",
    "    ''' \n",
    "    no input\n",
    "    scrapes the top page of the codeup website for title and summary of blogs\n",
    "    returns a list of dictionaries\n",
    "    '''\n",
    "    #set variables\n",
    "    url2 = \"https://codeup.com/blog/\"\n",
    "    lst=[]\n",
    "    headers = {'User-Agent': 'Codeup Data Science'} # Some websites don't accept the pyhon-requests default user-agent\n",
    "    response = get(url2, headers=headers)\n",
    "    #make soup\n",
    "    soup=BeautifulSoup(response.content)\n",
    "    #set for article\n",
    "    articles = soup.select(\"article\")\n",
    "    #goes through and grabs title and summary from article\n",
    "    for art,_ in enumerate(articles):\n",
    "        # print(art)\n",
    "        ##url\n",
    "        lst.append({\"title\":(articles[art].select(\"h2\")[0].text.strip()),\n",
    "                    \"summary\": (articles[art].select(\"p\")[1].text.strip())\n",
    "                    })\n",
    "    return lst"
   ]
  },
  {
   "cell_type": "code",
   "execution_count": 306,
   "metadata": {},
   "outputs": [
    {
     "data": {
      "text/plain": [
       "{'title': 'Codeup Honored as SABJ Diversity and Inclusion Award Winner',\n",
       " 'summary': 'Codeup has been named the 2022 Diversity and Inclusion award winner from the San Antonio Business Journal! We are...'}"
      ]
     },
     "execution_count": 306,
     "metadata": {},
     "output_type": "execute_result"
    }
   ],
   "source": [
    "l = get_blog_articles()\n",
    "l[1]"
   ]
  },
  {
   "cell_type": "markdown",
   "metadata": {},
   "source": [
    "# News Articles\n",
    "\n",
    "We will now be scraping text data from inshorts, a website that provides a brief overview of many different topics.\n",
    "\n",
    "Write a function that scrapes the news articles for the following topics:\n",
    "\n",
    "Business\n",
    "Sports\n",
    "Technology\n",
    "Entertainment\n",
    "The end product of this should be a function named get_news_articles that returns a list of dictionaries, where each dictionary has this shape:\n",
    "\n",
    "\n"
   ]
  },
  {
   "cell_type": "code",
   "execution_count": 305,
   "metadata": {},
   "outputs": [
    {
     "name": "stdout",
     "output_type": "stream",
     "text": [
      "0\n",
      "1\n",
      "2\n",
      "3\n",
      "4\n",
      "5\n",
      "6\n",
      "7\n",
      "8\n",
      "9\n",
      "10\n",
      "11\n",
      "12\n"
     ]
    },
    {
     "data": {
      "text/plain": [
       "[{'title': 'HCLTech adds highest-ever 10,339 freshers, reports 23.8% attrition in Jul-Sept',\n",
       "  'summary': \"HCLTech reported its highest-ever hiring of 10,339 freshers in July-September quarter, MD and CEO C Vijayakumar said on Wednesday. HCLTech's attrition rate in the quarter stood at 23.8%, same as that in April-June quarter. Meanwhile, the firm reported net employee addition of 8,359 employees in Q2 FY23, up from net employee addition of 2,089 employees in Q1 FY23.\",\n",
       "  'category': 'Business'},\n",
       " {'title': \"11 lakh railway employees to get 78 days' wages as productivity bonus\",\n",
       "  'summary': 'Union Minister Anurag Thakur on Wednesday announced that the Centre has approved a productivity-linked bonus equivalent to the wage of 78 days for eligible non-gazetted railway employees. This will benefit more than 11 lakh non-gazetted railway employees and it will cost the government approximately ₹1,832 crore. The maximum amount payable per eligible railway employee is ₹17,951 for 78 days.',\n",
       "  'category': 'Business'},\n",
       " {'title': 'Moonlighting a question of ethics, not legalities: Wipro CEO',\n",
       "  'summary': 'On being asked whether moonlighting is legal or illegal, Wipro CEO Thierry Delaporte said, \"It isn\\'t a question of legalities, it\\'s a question of ethics.\" He added, \"We don\\'t believe that it is right to have two jobs having a conflict of interest.\" He further said, \"If other companies have no problem with that, we respect that.\"',\n",
       "  'category': 'Business'},\n",
       " {'title': 'Retail inflation averages at 7.02% in Jul-Sept, down from 7.28% in Apr-Jun',\n",
       "  'summary': 'Retail inflation in India averaged at 7.02% in the July-September 2022 quarter, down from the 7.28% average inflation recorded in the April-June 2022 quarter, data from the Statistics Ministry released on Wednesday showed. Average inflation was at 6.34% in the January-March quarter of this year. Retail inflation was at 7.41% in September, up from 7% in August.',\n",
       "  'category': 'Business'},\n",
       " {'title': 'Wipro to give 100% variable pay to 85% of employees in Q2 FY23: CEO',\n",
       "  'summary': \"IT services firm Wipro's CEO Thierry Delaporte has said that the company will pay out 100% of variable pay to 85% of its employees for the second quarter. The remaining 15% of the employees will reportedly get their variable pay as per policy. The company's net profit fell 9.27% YoY to ₹2,659 crore in Q2 FY22.\",\n",
       "  'category': 'Business'},\n",
       " {'title': 'Mercedes-Benz, Microsoft collaborate to improve auto production',\n",
       "  'summary': 'Mercedes-Benz and Microsoft have collaborated to use Microsoft Cloud for a data platform to improve production efficiency at auto plants around the world. According to a statement, the data platform is called MO360, and is presently available in Europe, the Middle East and Africa. The collaboration is aiming for a 20% increase in vehicle production efficiency by 2025. ',\n",
       "  'category': 'Business'},\n",
       " {'title': 'MobiKwik raises more debt, changes ESOP policy: Report',\n",
       "  'summary': \"MobiKwik has raised total debt of ₹55 crore since August from BlackSoil and Alternative Investment Fund, Karnation, according to two Registrar of Companies filings. MobiKwik's board passed a resolution for allotment of 900 non-convertible debentures, in tranches of 700 and 200, to raise ₹35 crore and ₹10 crore from BlackSoil. MobiKwik has also reportedly made changes to its ESOP policy.\",\n",
       "  'category': 'Business'},\n",
       " {'title': \"India-UK FTA on 'verge of collapse' over visa comments: Report\",\n",
       "  'summary': 'After UK Home Secretary Suella Braverman questioned action over Indians overstaying their visa, the Free Trade Agreement between the two countries is on the verge of collapse, according to a UK media report. It stated that ministers of the Indian government were \"shocked and dismayed\" by Braverman\\'s comments. Braverman called Indians the \"largest group of people who overstay\" their visas. ',\n",
       "  'category': 'Business'},\n",
       " {'title': 'LIC sells over 2% stake in Power Grid for ₹3,079 crore in 5 months',\n",
       "  'summary': 'Life Insurance Corporation of India (LIC) has sold over 2% of its holding in Power Grid Corporation over the past five months for ₹3,079.43 crore. \"Corporation\\'s shareholding in Power Grid...has diluted from 36,99,02,170 to 23,01,82,028 equity shares decreasing its shareholding from 5.303% to 3.3% of the paid-up capital of the said company,\" LIC said.',\n",
       "  'category': 'Business'},\n",
       " {'title': \"India's geospatial economy to cross ₹63,000 crore by 2025: Minister\",\n",
       "  'summary': \"Union Minister Jitendra Singh on Tuesday said that India's geospatial economy is expected to cross ₹63,000 crore by 2025 at a growth rate of 12.8%. He further said it will provide employment to more than 10 lakh people mainly through geospatial startups. He said this while addressing the Second United Nations World Geospatial Information Congress (UN-WGIC) 2022 in Hyderabad.\",\n",
       "  'category': 'Business'},\n",
       " {'title': 'HCL Tech net profit increases 7% to ₹3,489 crore in Q2',\n",
       "  'summary': 'IT major HCL Technologies announced that its consolidated net profit saw a 7.05% year-on-year growth, taking it to ₹3,489 crore in the quarter ended September 2022. The company registered a revenue of ₹24,686 crore, clocking a 19.5% growth over ₹20,655 crore last year. Sequentially, revenue rose 5.2% from ₹23,464 crore in quarter ended June 2022.',\n",
       "  'category': 'Business'},\n",
       " {'title': \"NHAI's InvIT raises funds to finance 3 additional road projects\",\n",
       "  'summary': 'National Highways Infra Trust has raised ₹1,430 crore through the placement of its units for part funding its acquisition of three additional road projects from NHAI. According to official statement, investors include Canada Pension Plan Investment Board, SBI and TATA AIG, among other investors. Units were subscribed at a premium of ₹109 over the floor price of ₹107.12.',\n",
       "  'category': 'Business'},\n",
       " {'title': \"India's projected debt ratio to be 84% of GDP: IMF\",\n",
       "  'summary': 'Paolo Mauro, Deputy Director, Fiscal Affairs Department, International Monetary Fund, said India\\'s debt ratio is projected to be 84% of its GDP by the end of 2022. Mauro stressed that it is important for India to have a very clear medium-term objective on the fiscal. \"It would be very important to give reassurance that things are under control,\" he added.',\n",
       "  'category': 'Business'},\n",
       " {'title': 'Indian energy firms come together to develop carbon market',\n",
       "  'summary': \"An alliance of key stakeholders in the carbon markets, the Carbon Markets Association of India (CMAI), has been formed to develop a carbon credit market to achieve energy transition goals. CMAI President Manish Dabkara said CMAI would act as a mediator between government and industries. The association includes Gautam Adani's Adani Group and Dabkara's EKI Energy Services, among other firms.\",\n",
       "  'category': 'Business'},\n",
       " {'title': \"India's factory output in August contracts for the first time in 18 months\",\n",
       "  'summary': \"India's Index of Industrial Production contracted 0.8% year-on-year in August for the first time in 18 months, according to government data released on Wednesday. Month-on-month, the index declined 2.3% compared with a decline of 2.9% in July. Mining output fell 3.9%, while manufacturing activity fell by 0.7%, indicating a broader slowdown in the country.\",\n",
       "  'category': 'Business'},\n",
       " {'title': 'Govt scraps privatisation of Bhadravati steel plant on low bidder interest',\n",
       "  'summary': 'The Department of Investment and Public Asset Management (DIPAM) said the privatisation of SAIL’s Bhadravati steel plant has been scrapped due to low bidder interest. The transaction was annulled with the approval of Alternative Mechanism (Empowered Group of Ministers). DIPAM said multiple Expressions of Interest (EoIs) had been received and qualified bidders had conducted due diligence.',\n",
       "  'category': 'Business'},\n",
       " {'title': 'RBI asks entities to stop taking ratings from Brickwork Ratings',\n",
       "  'summary': 'The Reserve Bank of India has asked entities and market participants to stop taking fresh ratings and credit evaluations from Brickwork Ratings India Private Limited. On October 6, SEBI asked the credit rating agency to wind down operations and cancelled its Certificate of Registration (CoR). The instructions regarding existing ratings issued by Brickwork shall be advised separately, RBI said.',\n",
       "  'category': 'Business'},\n",
       " {'title': 'PVR receives shareholders approval for merger with INOX Leisure',\n",
       "  'summary': 'Multiplex operator PVR said that it has received approval from its shareholders for the proposed merger with rivals INOX Leisure. PVR convened a meeting of its shareholders on Tuesday, following the directions of the Mumbai bench of the National Company Law Tribunal (NCLT). The proposal was passed by over 99% of the number of valid votes cast.',\n",
       "  'category': 'Business'},\n",
       " {'title': 'OPEC cuts 2022 oil demand growth for 4th time amid rising inflation',\n",
       "  'summary': 'Organization of the Petroleum Exporting Countries (OPEC) cut its 2022 forecast for growth in world oil demand for the fourth time since April. OPEC said that oil demand will increase by 2.7% to 2.64 million barrels per day (bpd) in 2022, down 460,000 bpd from its previous forecast. It has also cut oil demand for next year by 3,60,000 bpd.',\n",
       "  'category': 'Business'},\n",
       " {'title': 'Indian, US oil and gas companies sign 4 MoUs for clean energy partnership',\n",
       "  'summary': 'Indian and American gas and oil companies signed four major MoUs to strengthen the bilateral strategic clean energy partnership. The MoUs were signed by the Minister of Petroleum and Natural Gas Hardeep Singh Puri during a round table in Houston. Indian Oil, Aavantika Gas Limited, Engineers India Limited and Indraprastha Gas Limited were the companies to sign the MoU.',\n",
       "  'category': 'Business'},\n",
       " {'title': 'Rupee drops 14 paise to close at 82.35 against US dollar',\n",
       "  'summary': 'The Indian rupee declined by 14 paise to close at 82.35 against the US dollar on Wednesday. At the interbank foreign exchange market, the local currency opened at 82.32 and witnessed an intra-day high of 82.15 and a low of 82.37 against the American currency. The rupee touched a new record low of 82.67 against the US dollar on Monday.',\n",
       "  'category': 'Business'},\n",
       " {'title': 'Fireside Ventures raises $225 million for third fund',\n",
       "  'summary': 'Fireside Ventures\\ufeff announced that it has raised third fund at $225 million (₹1,830 crore), which is the largest capital raised yet by the five-year-old firm. The early-stage investor said the new fund would invest in about 25-30 Indian startups focusing on the health and wellness, lifestyle and consumer goods categories. Investors include SBI, ITC and Premji Invest, among other firms.',\n",
       "  'category': 'Business'},\n",
       " {'title': 'Wipro registers ₹2,659 crore net profit in Q2 FY23; sees Y-o-Y decline of 9%',\n",
       "  'summary': \"IT services firm Wipro released its Q2 results, reporting consolidated net profit of ₹2,659 crore, which was 9% less than ₹2,930 crore in the same period last year. The company's revenue from operations stood at ₹22,539.7 crore, a 14.60% increase over ₹19,667.4 crore in the previous year. Sequentially, profit rose 3.71% from ₹2563.6 crore in the previous quarter.\",\n",
       "  'category': 'Business'},\n",
       " {'title': 'Adda247 raises $35 million led by WestBridge Capital, Google and Info Edge',\n",
       "  'summary': 'Ed-tech platform \\ufeffAdda247 announced raising $35 million in a round led by WestBridge Capital. The round also saw participation from Google as a new investor and existing investors, Info Edge and Asha Impact. The company said the funds will be used to enhance its tech and product profile, expand its student counselling team, and hiring for some key leadership roles.',\n",
       "  'category': 'Business'},\n",
       " {'title': 'India extends validity for sugar exports to US under quota till December 31',\n",
       "  'summary': 'Directorate General of Foreign Trade (DGFT) said that the deadline to export raw sugar to the US under Tariff-Rate Quota (TRQ) has been extended till December 31. TRQ is the quota to export products to the US at relatively low tariffs. Total sugar exports to the US under TRQ would be around 10,475 tonnes during 2022, DGFT said in May.',\n",
       "  'category': 'Business'},\n",
       " {'title': 'Ambati Rayudu, Sheldon Jackson involved in fight during match, video goes viral',\n",
       "  'summary': \"A video has gone viral showing Baroda's Ambati Rayudu and Saurashtra's Sheldon Jackson getting involved in a fight during their Syed Mushtaq Ali Trophy match. According to the on-air commentator, the fight ensued after Rayudu expressed his displeasure at Jackson taking time to get ready to face the deliveries. The umpires and players had to intervene to end their fight.\",\n",
       "  'category': 'Sports'},\n",
       " {'title': \"Ben Stokes' flying effort at boundary rope to save six goes viral\",\n",
       "  'summary': 'A video has gone viral showing England all-rounder Ben Stokes\\' acrobatic effort to save a shot from Australia\\'s Mitchell Marsh from going for a six at long-off during the second T20I in Canberra. Reacting to the video, a fan tweeted, \"How he did that so brilliantly!\" Another fan wrote, \"Unbelievable athleticism!\" \"His reaction time is outstanding,\" another tweet read.',\n",
       "  'category': 'Sports'},\n",
       " {'title': \"India's national record-holding discus thrower Kamalpreet banned for 3 years for doping\",\n",
       "  'summary': \"Kamalpreet Kaur, who holds national record in women's discus throw, has been banned for three years for doping. The Athletics Integrity Unit stated that Kaur tested positive for a banned substance [stanozolol] in a test conducted on March 7 this year. Her period of ineligibility started from March 29 and all her results since March 7 stand null and void. \",\n",
       "  'category': 'Sports'},\n",
       " {'title': 'ICC names 5 changes to playing conditions to keep an eye on during T20 World Cup',\n",
       "  'summary': \"ICC named five changes to playing conditions to keep an eye on during T20 World Cup 2022. They include five-run penalty for unfair movement by fielding side, new batter to take strike after caught dismissals, in-match over penalty for slow over-rate, batters requiring to have some part of their bat/body within pitch and 'mankading', which is no longer 'unfair play'.\",\n",
       "  'category': 'Sports'},\n",
       " {'title': 'ICC names 2 strike bowlers for every team at T20 World Cup 2022',\n",
       "  'summary': \"ICC has named two strike bowlers for every team at T20 World Cup 2022, considering their rankings and the latest form. For India, ICC named pacer Bhuvneshwar Kumar and leg-spinner Yuzvendra Chahal as the strike bowling combination. For Pakistan, ICC chose pacers Mohammad Wasim and Haris Rauf. Meanwhile, ICC named Josh Hazlewood and Adam Zampa as hosts Australia's strike bowlers.\",\n",
       "  'category': 'Sports'},\n",
       " {'title': \"Ganguly's removal as BCCI Prez another example of BJP's vendetta: TMC\",\n",
       "  'summary': \"TMC on Tuesday said that Sourav Ganguly's removal as BCCI President is another example of BJP's political vendetta. Talking about the incident, TMC MP Santanu Sen claimed that BJP's Amit Shah visited Ganguly's house a few months back and he was given several opportunities to join BJP. Was Ganguly removed because he's from Mamata Banerjee's state? Sen asked. \",\n",
       "  'category': 'Sports'},\n",
       " {'title': 'Mohammad Shami confirms he is going to Australia ahead of T20 WC, shares pics from flight',\n",
       "  'summary': 'Pacer Mohammad Shami on Wednesday confirmed that he is going to Australia ahead of the T20 World Cup 2022. Sharing pictures from a flight on Instagram, the 32-year-old pacer wrote, \"Time to fly now for T20 World Cup.\" Shami is reportedly in contention to replace the vacant spot left by injured Jasprit Bumrah in India\\'s T20 World Cup 2022 squad.',\n",
       "  'category': 'Sports'},\n",
       " {'title': 'Who are the top 5 batters as per latest T20I rankings?',\n",
       "  'summary': \"New Zealand wicketkeeper-batter Devon Conway leapfrogged Australia's Aaron Finch and England's Dawid Malan to make it to fifth spot with 760 rating points in latest T20I rankings for batters. The rankings are led by Pakistan's Muhammad Rizwan (853 rating points). He's followed by India's Suryakumar Yadav (838) and Pakistan captain Babar Azam (808 points). South Africa's Aiden Markram is fourth.\",\n",
       "  'category': 'Sports'},\n",
       " {'title': 'How does the final medal tally of 36th National Games read?',\n",
       "  'summary': 'The 36th National Games came to a conclusion on Wednesday, with Services Sports Control Board (SSCB) finishing on top of the medal tally with 61 gold medals. Maharashtra came second with 39 gold medals, while Haryana came third with 38 gold medals. Overall, Maharashtra won the most number of medals with 140, while SSCB won 128. ',\n",
       "  'category': 'Sports'},\n",
       " {'title': \"India players celebrate Hardik Pandya's birthday in a small plane, Karthik shares video\",\n",
       "  'summary': 'Several Team India players including Dinesh Karthik, Rohit Sharma and Deepak Hooda celebrated all-rounder Hardik Pandya\\'s birthday in a small plane in Australia. Sharing a video, Karthik wrote, \"Celebrating birthdays on ground was too mainstream so we took it to the sky.\" In the video, Pandya can be seen sitting with the pilot apparently ahead of the take-off.',\n",
       "  'category': 'Sports'},\n",
       " {'title': \"I'd go for Siraj, he has been bowling well: Gavaskar on Bumrah's replacement\",\n",
       "  'summary': 'Former India captain Sunil Gavaskar has said he would go for pacer Mohammed Siraj as Jasprit Bumrah\\'s replacement in the upcoming T20 World Cup as the 28-year-old has been \"bowling well\". \"Mohammad Shami has played no cricket. And that\\'s a concern,\" added Gavaskar. Siraj was named the \\'Player of the Series\\' in the recently-concluded three-match ODI series against South Africa.',\n",
       "  'category': 'Sports'},\n",
       " {'title': 'Like Malinga, Wanindu Hasaranga is a competitor: Mahela Jayawardena',\n",
       "  'summary': 'Ex-Sri Lanka captain Mahela Jayawardena has praised spinner Wanindu Hasaranga, stating that the 25-year-old has delivered in \"tough situations\" for his team in the last 12 months. \"Once Wanindu crosses the field, like Lasith Malinga, he\\'s a competitor...that\\'s what I love about him,\" added Jayawardena. Wanindu was named \\'Player of the Tournament\\' in the 2022 Asia Cup.',\n",
       "  'category': 'Sports'},\n",
       " {'title': 'Slower ones are not that effective against someone like Kohli: Harshal',\n",
       "  'summary': 'India pacer Harshal Patel has said that his slower deliveries are more effective when players go deep in the crease and try to slog. \"For someone like Virat Kohli, whenever I\\'ve played against him, he steps out and makes it a full toss and plays it through midwicket,\" added Harshal. Harshal has picked three wickets in his last six T20Is.',\n",
       "  'category': 'Sports'},\n",
       " {'title': \"Aus will suit our pacers a lot better: Boucher after SA's series loss vs India\",\n",
       "  'summary': 'After losing both the ODI and the T20I series in India, South Africa head coach Mark Boucher said Australian pitches will suit their pacers a \"lot better\". He added, \"We have got some good pace, some good bounce in our attack, so we need to keep the aggression there.\" South Africa lost the three-match ODI series 1-2.',\n",
       "  'category': 'Sports'},\n",
       " {'title': \"Suryakumar reminds me of ABD, he's the player to watch out for in WC: Steyn\",\n",
       "  'summary': 'Ex-South Africa pacer Dale Steyn has said India\\'s Suryakumar Yadav is in \"red-hot form\" and he\\'s the player to watch out for in the upcoming T20 World Cup in Australia. \"He\\'s a wonderful 360-degree player, and reminds me of AB de Villiers,\" added Steyn. Suryakumar has scored three fifties in his last four T20I innings.',\n",
       "  'category': 'Sports'},\n",
       " {'title': \"Both India, Pak don't have enough all-rounders, it's been an issue: Nasser\",\n",
       "  'summary': 'Ex-England captain Nasser Hussain has said both India and Pakistan lack a proper number seven player in their squads for the upcoming T20 World Cup. \"If you have a solid number seven, then...your top six can absolutely go for it. That has been an issue for India [and Pakistan]...Babar and Rizwan are so worried about their [batting] depth,\" stated Hussain.',\n",
       "  'category': 'Sports'},\n",
       " {'title': \"Big score is around the corner: NZ coach Stead on Williamson's form\",\n",
       "  'summary': 'New Zealand head coach Gary Stead, on being asked about their captain Kane Williamson\\'s recent performances, said a \"big score\" is around the corner for the 32-year-old. \"Kane is one of the hardest workers I have seen on his game and he continues to be,\" added Stead. Notably, Williamson hasn\\'t crossed the 50-run mark in his last six T20I innings.',\n",
       "  'category': 'Sports'},\n",
       " {'title': \"Marco Jansen replaces Dwaine Pretorius in SA's squad for T20 WC\",\n",
       "  'summary': 'South Africa all-rounder Marco Jansen has replaced Dwaine Pretorius in their squad for the upcoming T20 World Cup in Australia. Pretorius sustained a fracture in his left thumb during the third T20I against India and was subsequently ruled out of the World Cup. Interestingly, Jansen has played only one T20I in his career so far.',\n",
       "  'category': 'Sports'},\n",
       " {'title': \"It's like having the best car, but you leave it in garage: Lee on Umran Malik\",\n",
       "  'summary': 'Former Australia pacer Brett Lee has said India\\'s 22-year-old pacer Umran Malik should\\'ve been selected in India\\'s squad for the T20 World Cup in Australia. \"Umran Malik is bowling at 150 kmph. I mean when you have the best car in the world, and you leave it in the garage, then what\\'s the point of having that car?\" said Lee.',\n",
       "  'category': 'Sports'},\n",
       " {'title': 'Washington Sundar brings more to the table than Ashwin: Aakash Chopra',\n",
       "  'summary': 'Cricketer-turned-commentator Aakash Chopra has said Washington Sundar \"brings more to the table\" than Ravichandran Ashwin, but the all-rounder missed the bus for the upcoming T20 World Cup due to recurring injuries. \"Had Washington remained...without any injuries in the last 10 months...he\\'d have been part of the T20 WC squad,\" stated Aakash. Sundar last played a T20I in March last year.',\n",
       "  'category': 'Sports'},\n",
       " {'title': 'FA to employ lip reader for Henderson-Gabriel altercation probe: Report',\n",
       "  'summary': \"The Football Association (FA) is reportedly set to employ a lip reader as part of their ongoing investigation into the altercation between Liverpool captain Jordan Henderson and Arsenal defender Gabriel. The incident took place when the two teams played against each other and a penalty was awarded to Arsenal. The FA started its investigation based on referee Michael Oliver's report.\",\n",
       "  'category': 'Sports'},\n",
       " {'title': 'Will try to win remaining races: Verstappen after winning world title',\n",
       "  'summary': '2022 F1 world champion Max Verstappen said he will \"definitely try\" to win the remaining four races of the season. \"There is no real pressure anymore but I still want to of course try and win more,\" said Verstappen. He added that he wanted to extend the current advantage as it may not be there \"in the years to come\".',\n",
       "  'category': 'Sports'},\n",
       " {'title': 'Pant should be worried, Ishan Kishan is coming for his spot: Steyn',\n",
       "  'summary': 'Ex-South Africa pacer Dale Steyn has praised batter Ishan Kishan, stating that wicketkeeper-batter Rishabh Pant should be \"worried that someone (Ishan) is coming for his spot\". \"I\\'ve watched Ishan go and get better. For a short and small man, he packs an incredible punch,\" added Steyn. Ishan scored 20, 93 and 10 in his three innings in the SA ODIs.',\n",
       "  'category': 'Sports'},\n",
       " {'title': 'Man City, Real Madrid enter Champions League knockouts; Chelsea stun Milan',\n",
       "  'summary': 'Manchester City and Real Madrid have become the first teams to enter the knockout phase of the ongoing Champions League after playing out draws in their respective matches on Tuesday night. City were held to a 0-0 draw by Copenhagen, while Madrid rescued a 1-1 draw in the last five minutes against Shakhtar Donetsk. Meanwhile, Chelsea defeated AC Milan 2-0.',\n",
       "  'category': 'Sports'},\n",
       " {'title': \"Mbappe seeking Jan transfer after feeling 'betrayed' by PSG: Report\",\n",
       "  'summary': 'PSG forward Kylian Mbappe is reportedly unhappy with the club and is looking for a transfer during the January window. Mbappe is said to be feeling \"betrayed\" as promises like a second striker alongside him and a new centre-back have not been fulfilled by the club. The forward\\'s relationship with fellow striker Neymar is also said to be an issue. ',\n",
       "  'category': 'Sports'},\n",
       " {'title': \"Russia adds Meta to its list of 'terrorist and extremist' organisations\",\n",
       "  'summary': 'Russia\\'s financial monitoring agency, Rosfinmonitoring, has added Facebook and Instagram parent Meta to its list of \"terrorist and extremist\" organisations, AFP and Russia\\'s Interfax news agency reported. In June, a Russian court rejected an appeal by Meta after it was found guilty of \"extremist activity\" in the country in March. At the time, Meta\\'s lawyer had denied the allegation.',\n",
       "  'category': 'Technology'},\n",
       " {'title': \"Robot addresses UK Parliament, says 'Although not alive, I can still create art'\",\n",
       "  'summary': 'A \\'robot artist\\' called Ai-Da interacted with British lawmakers on Tuesday, speaking at a parliamentary inquiry into how new technologies will affect the creative industries. \"I am, and depend on, computer programmes and algorithms. Although not alive, I can still create art,\" Ai-Da said. Ai-Da was created by scientists at the University of Oxford.',\n",
       "  'category': 'Technology'},\n",
       " {'title': 'I have spoken to Putin only once and that was about 18 months ago: Musk',\n",
       "  'summary': 'Elon Musk on Tuesday tweeted, \"I have spoken to Putin only once and that was about 18 months ago.\" He added, \"The subject matter was space.\" Musk\\'s tweet came after reports claimed that he directly spoke with Russian President Vladimir Putin before tweeting a proposal to end the war in Ukraine earlier this month.',\n",
       "  'category': 'Technology'},\n",
       " {'title': 'HCLTech adds highest-ever 10,339 freshers, reports 23.8% attrition in Jul-Sept',\n",
       "  'summary': \"HCLTech reported its highest-ever hiring of 10,339 freshers in July-September quarter, MD and CEO C Vijayakumar said on Wednesday. HCLTech's attrition rate in the quarter stood at 23.8%, same as that in April-June quarter. Meanwhile, the firm reported net employee addition of 8,359 employees in Q2 FY23, up from net employee addition of 2,089 employees in Q1 FY23.\",\n",
       "  'category': 'Technology'},\n",
       " {'title': 'Adani Data Networks gets licence to offer telecom services in India: Report',\n",
       "  'summary': \"Adani Data Networks has reportedly been granted a unified licence to offer telecom services in India. The company bought a 400MHz spectrum in the 26GHz millimetre wave band for ₹212 crore for 20 years in the recent 5G spectrum auction. Earlier, Adani Group clarified that it doesn't intend to enter the consumer mobility space with its 5G spectrum. \",\n",
       "  'category': 'Technology'},\n",
       " {'title': \"Wipro's net employee addition falls to 605, attrition down to 23% in Jul-Sept\",\n",
       "  'summary': \"IT services firm Wipro on Wednesday said its net employee addition during the July-September 2022 quarter was 605 people, down from 15,446 employees it hired in the April-June 2022 quarter. Wipro's attrition rate for Q2 FY23 was 23%, down from 23.3% recorded in Q1 FY23. Wipro was the only IT major to report a fall in attrition in last quarter.\",\n",
       "  'category': 'Technology'},\n",
       " {'title': \"Facebook users complain of losing followers, Zuckerberg's decline by 119 million\",\n",
       "  'summary': 'Several Facebook users have complained about losing a majority of their followers on the social media platform due to unknown reasons. Notably, Meta CEO Mark Zuckerberg has also lost over 119 million followers, bringing his follower count to less than 10,000. Meanwhile, a Meta spokesperson said, \"We’re working to get things back to normal as quickly as possible.\"',\n",
       "  'category': 'Technology'},\n",
       " {'title': '2-seater Chinese electric flying car makes 1st public test flight in Dubai, pics surface',\n",
       "  'summary': 'An electric flying car built by the Chinese electronic vehicle maker Xpeng made its first public test flight in Dubai. Powered by eight propellers, the vehicle can carry two passengers and as per the company, it has a top speed of 130 km per hour. Several pictures and videos of the test flight also surfaced on social media.',\n",
       "  'category': 'Technology'},\n",
       " {'title': 'Infosys President Ravi Kumar S resigns',\n",
       "  'summary': 'Infosys on Tuesday announced the resignation of the company\\'s President Ravi Kumar S, effective October 11, 2022. \"The Board of Directors placed on record their deep sense of appreciation for the services rendered by Ravi Kumar S for his contributions to the company,\" Infosys said in a regulatory filing. Ravi led Infosys Global Services Organization across all industry segments.',\n",
       "  'category': 'Technology'},\n",
       " {'title': 'Apple to roll out 5G software update in India by December',\n",
       "  'summary': 'Apple on Wednesday said that it will start upgrading its software to support 5G services for iPhone users in India by December. In a statement, the company said, \"We are working with our carrier partners in India to bring the best 5G experience to iPhone users as soon as network validation and testing for quality and performance is completed.\"',\n",
       "  'category': 'Technology'},\n",
       " {'title': \"TCS staff seeking WFH on medical grounds referred to firm's doctors for validation: Report\",\n",
       "  'summary': 'TCS employees seeking exemption from work from office on medical basis are reportedly being referred to doctors empanelled by the company for validation. According to a report, employees have been asked to get their records of diagnosis and medical certificates validated by these doctors to permit remote work. TCS staff has been asked to work from office thrice a week. ',\n",
       "  'category': 'Technology'},\n",
       " {'title': 'Intel plans to cut thousands of jobs amid PC market slowdown: Report',\n",
       "  'summary': 'Chipmaker Intel is planning to cut thousands of jobs amid a slowdown in the personal computer market, as per a report. The job cuts will reportedly be announced as early as this month and may include employees from the sales and marketing divisions. Intel last made significant job cuts in 2016, when about 12,000 people were laid off. ',\n",
       "  'category': 'Technology'},\n",
       " {'title': 'Crypto firm Blockchain.com gets Singapore licence a day after Coinbase',\n",
       "  'summary': \"Blockchain.com, a cryptocurrency exchange backed by Lightspeed Venture Partners, has said that it has received approval from Singapore's central bank to offer services in the city-state. The announcement comes a day after cryptocurrency exchange company, Coinbase, received the same approval. There are total 18 cryptocurrency exchange firms allowed to operate in Singapore.\",\n",
       "  'category': 'Technology'},\n",
       " {'title': 'Wipro to give 100% variable pay to 85% of employees in Q2 FY23: CEO',\n",
       "  'summary': \"IT services firm Wipro's CEO Thierry Delaporte has said that the company will pay out 100% of variable pay to 85% of its employees for the second quarter. The remaining 15% of the employees will reportedly get their variable pay as per policy. The company's net profit fell 9.27% YoY to ₹2,659 crore in Q2 FY22.\",\n",
       "  'category': 'Technology'},\n",
       " {'title': 'YouTube introduces account handles to allow users to tag each other',\n",
       "  'summary': \"YouTube has introduced account handles to make it easier for users to interact and tag other users. Handles will appear on channel pages and Shorts so that they will be instantly and consistently recognisable. Handles can be used to tag users in comments or video titles. YouTube will inform users over next month when they can choose their channel's handle.\",\n",
       "  'category': 'Technology'},\n",
       " {'title': 'Samsung to enable 5G support in its devices in India by mid-Nov',\n",
       "  'summary': 'Samsung on Wednesday confirmed that it will be enabling 5G support in its 5G-ready Galaxy devices in India through a software update in mid-November. \"In India, Samsung has the widest portfolio of 5G devices. We\\'re working closely with our operator partners [to enable]...Indian consumers to experience 5G seamlessly,\" a Samsung spokesperson said. Apple will launch 5G support in December 2022.',\n",
       "  'category': 'Technology'},\n",
       " {'title': 'Policing virtual world like shutting down speakeasies: Roblox Chief Scientist',\n",
       "  'summary': 'Policing the virtual world is like \"shutting down speakeasies\", said Roblox Chief Scientist Morgan McGuire referring to US prohibition-era bars hiding from law enforcement. The firm is deploying bots to detect any dangerous content that players may have disguised. Users had reportedly created explicit private spaces, known as \"condos\", where people\\'s digital avatars could engage in virtual sex.',\n",
       "  'category': 'Technology'},\n",
       " {'title': 'Google Pixel 6a, Pixel 7 to soon get 5G update in India',\n",
       "  'summary': 'Google Pixel 6a and Pixel 7 smartphones will soon be getting a new update to enable their users to connect to the 5G network in India. Google has confirmed that it is working with Indian telecom operators to allow 5G functionality. Meanwhile, Samsung on Wednesday confirmed that it will enable 5G support on its Galaxy devices in India by mid-November.',\n",
       "  'category': 'Technology'},\n",
       " {'title': 'Mercedes-Benz, Microsoft collaborate to improve auto production',\n",
       "  'summary': 'Mercedes-Benz and Microsoft have collaborated to use Microsoft Cloud for a data platform to improve production efficiency at auto plants around the world. According to a statement, the data platform is called MO360, and is presently available in Europe, the Middle East and Africa. The collaboration is aiming for a 20% increase in vehicle production efficiency by 2025. ',\n",
       "  'category': 'Technology'},\n",
       " {'title': 'Apple may roll out 5G support for iPhone in India by Dec: Report',\n",
       "  'summary': \"Apple may roll out 5G support for users of iPhone 12 and newer models in India by December this year, according to reports. Apple is reportedly extensively testing its 5G iPhone models on both Airtel and Reliance Jio's 5G networks. Senior executives from Apple and Airtel will also meet this week to discuss the rollout timeline.\",\n",
       "  'category': 'Technology'},\n",
       " {'title': 'Intel confirms its proprietary source code has been exposed: Report',\n",
       "  'summary': 'Intel has reportedly confirmed that its \\'Alder Lake BIOS\\' source code has been leaked by a third-party in a 6GB file containing tools and code for building and optimising \\'BIOS/UEFI\\' images. The BIOS/UEFI code works to initialise a computer\\'s hardware before the operating system has loaded.  \"We don\\'t believe this exposes any new security vulnerabilities,\" an Intel spokesperson said.',\n",
       "  'category': 'Technology'},\n",
       " {'title': 'Yoho raises ₹20 crore in funding round led by Paytm Founder, others',\n",
       "  'summary': 'Footwear startup Yoho has raised ₹20 crore in a funding round led by Paytm Founder Vijay Shekhar Sharma, Softbank Vision Fund CEO, Rajeev Misra and Rukam Capital, among other investors. Founded in 2021 by Prateek Singhal and Ahmad Hushsham, the firm manufactures lightweight orthopaedic footwear using AI and state-of-the-art technology. Currently, Yoho only sells footwear in three variants. ',\n",
       "  'category': 'Technology'},\n",
       " {'title': 'Twitter reviews policies on permanently banning users: Report',\n",
       "  'summary': \"Twitter is reviewing its policies around permanently banning users and exploring if there are other content moderation tools to replace a ban, as per a report. In May, Elon Musk said he would reverse Twitter's ban on former US President Donald Trump. However, Twitter is not considering reversing bans issued for breaching its policy against inciting violence, the report added.\",\n",
       "  'category': 'Technology'},\n",
       " {'title': 'Uber shuts down in 5 Pak cities, to continue services via Careem',\n",
       "  'summary': 'Uber has said that it will discontinue its services in five Pakistani cities including Karachi and Islamabad. Multan, Faisalabad and Peshawar are the other cities where operations will be stopped. Uber said that drivers and riders can switch to Careem, the Dubai-based company it bought. Uber will continue its operations in Lahore, where it also plans on launching new products. ',\n",
       "  'category': 'Technology'},\n",
       " {'title': \"Can't you become bhaijaan to wronged women: Sherlyn to Salman on Sajid joining Bigg Boss\",\n",
       "  'summary': 'Sherlyn Chopra, who had accused filmmaker Sajid Khan of sexual misconduct, has questioned Salman Khan for having the #MeToo accused on \\'Bigg Boss 16\\'. \"The message that\\'s going out...is that it\\'s okay to molest a woman,\" she said. \"I don\\'t understand what has happened to Salman Khan....You call yourself...bhaijaan, can\\'t you become bhaijaan to us wronged women?\" Sherlyn added.',\n",
       "  'category': 'Entertainment'},\n",
       " {'title': 'American Idol runner-up Willie Spence dies in car accident aged 23',\n",
       "  'summary': 'Singer Willie Spence, who finished runner-up in 19th season of American Idol, passed away in a car accident aged 23. Willie was in Tennessee at the time of the accident. \"Life\\'s so unfair and nothing is ever promised...God rest your soul Willie. It was a pleasure to sing with you and to know you,\" singer Katharine McPhee wrote on Instagram.',\n",
       "  'category': 'Entertainment'},\n",
       " {'title': 'Shah Rukh Khan books 5-star hotel rooms for fans, meets them individually; pics surface',\n",
       "  'summary': 'Actor Shah Rukh Khan recently booked 5-star hotel rooms for some of his fans and met them individually after finishing his shoot schedule for \\'Jawan\\' in Chennai. \"A manager along with two butlers were allotted to us,\" a fan said. \"He gave us all enough time to interact, click pictures and even present him with our gifts,\" the fan added. ',\n",
       "  'category': 'Entertainment'},\n",
       " {'title': 'American Idol fame Willie shared video of him singing in car on Insta hours before death',\n",
       "  'summary': 'Singer Willie Spence, who passed away in a car accident aged 23, had shared a video of himself singing inside a car hours before his accident. \"Lord you are my hiding place,\" he had captioned the video. Reacting to his post, singer Katharine McPhee Foster wrote, \"You\\'re with Jesus now. God bless you. Thankful for the time we had.\"',\n",
       "  'category': 'Entertainment'},\n",
       " {'title': 'Ranveer Singh, Kiara Advani win Maharashtrian of the Year Award 2022',\n",
       "  'summary': 'Ranveer Singh and Kiara Advani were honoured at the Lokmat Maharashtrian of the Year 2022 award event in Mumbai on Tuesday. Maharashtra CM Eknath Shinde and Deputy CM Devendra Fadnavis felicitated the actors. Ranveer, who won the award for the film \\'83\\', said, \"Whatever I am, I am because of this state and my whole identity is related to it.\"',\n",
       "  'category': 'Entertainment'},\n",
       " {'title': 'Beliefs hurt by distorting traditions, Aamir should keep this in mind: Minister on bank ad',\n",
       "  'summary': \"Madhya Pradesh Home Minister Narottam Mishra has criticised a bank advertisement featuring actors Aamir Khan and Kiara Advani. Mishra said that religious beliefs are hurt by distorting Indian traditions as the ad shows a couple reaching the bride's house and the groom taking the first step into the house. The minister said Aamir should do advertisements keeping this in mind.\",\n",
       "  'category': 'Entertainment'},\n",
       " {'title': \"Not true: 'Taarak Mehta...' fame Disha's brother on reports she has throat cancer\",\n",
       "  'summary': 'The brother of actress Disha Vakani, known for playing Dayaben in television show \\'Taarak Mehta Ka Ooltah Chashmah\\', has dismissed reports claiming that she is suffering from throat cancer. \"These kind of rumours keep doing the rounds in the media and there is no truth to it,\" her brother Mayur said.',\n",
       "  'category': 'Entertainment'},\n",
       " {'title': \"Got nose job to look prettier, it's my face, why wouldn't I: Shruti\",\n",
       "  'summary': 'Actress Shruti Haasan said it is very obvious that she got her nose fixed as she did her first film with her \"old nose\". \"My nose was broken...And people are like she\\'s just using the deviated septum excuse,\" she said. \"I did have a deviated septum...But if I could make it prettier, it\\'s my face, why wouldn\\'t I?\" Shruti added. \\n',\n",
       "  'category': 'Entertainment'},\n",
       " {'title': \"Every day was difficult: Parineeti on filming 'Code Name...' during COVID-19\",\n",
       "  'summary': 'Parineeti Chopra shared that \"every day was difficult\" on the sets of \\'Code Name: Tiranga\\', which was shot in Turkey during the second wave of COVID-19. She said the team faced \"many challenges\" and felt like they were \"isolated on an island\". However, Parineeti said that the hardships made the whole crew feel like a \"big family away from home\".',\n",
       "  'category': 'Entertainment'},\n",
       " {'title': \"'Yaariyan 2' to star Priya Prakash Varrier, Meezaan and Pearl V Puri\",\n",
       "  'summary': \"T-Series on Wednesday announced the sequel of the 2014 film 'Yaariyan' with an ensemble cast consisting of Pearl V Puri, Priya Prakash Varrier, Meezaan, and Yash Daasguptaa, among others. While the first film marked the directorial debut of Divya Khosla Kumar, 'Yaariyan 2' will be directed by Radhika Rao and Vinay Sapru. The film will release on May 12, 2023.\",\n",
       "  'category': 'Entertainment'},\n",
       " {'title': \"Told Big B 'Marry me, I'm in love with you' when I was 10: Swetha Menon\",\n",
       "  'summary': 'Malayalam actress Swetha Menon recalled an incident when she proposed to veteran actor Amitabh Bachchan when she was a 10-year-old girl. She said Amitabh had come to Allahabad to immerse the ashes of ex-Prime Minister Indira Gandhi. \"There was absolute silence...I reached Bachchan and told him to please \\'marry me as I am in love with you\\',\" she stated.',\n",
       "  'category': 'Entertainment'},\n",
       " {'title': \"'Teri Mitti' was among toughest songs I've sung, it's powerful: Praak \",\n",
       "  'summary': 'Singer B Praak has said that \\'Teri Mitti\\' was one of the toughest songs he has sung. \"It\\'s a powerful song that tells an incredible story and invokes patriotic fervour. So, to do justice to it was something I was very adamant about,\" he added. The song featured in Akshay Kumar and Parineeti Chopra\\'s 2019 film \\'Kesari\\'.',\n",
       "  'category': 'Entertainment'},\n",
       " {'title': 'Salman Khan whitewashing his toxic masculinity: Sona on #MeToo accused Sajid',\n",
       "  'summary': 'Speaking about Sajid Khan\\'s participation in \\'Bigg Boss 16\\', singer Sona Mohapatra tweeted that the show\\'s host and actor Salman Khan is whitewashing his own toxic masculinity. \"Continues the whitewashing in the BRO-HOOD...(Btw his gifting watches/food truck/surgeries is only more virtue signalling),\" she added. Several women accused Sajid of sexual misconduct during the #MeToo movement in 2018.',\n",
       "  'category': 'Entertainment'},\n",
       " {'title': \"'Squid Game' actor Anupam Tripathi meets Anurag Kashyap, shares pic\",\n",
       "  'summary': 'Actor Anupam Tripathi, who played the role of Ali in the South Korean series \\'Squid Game\\', shared a picture with filmmaker Anurag Kashyap on Instagram. \"Simply an amazing moment for me. I just had a meeting with one of my favourite film directors from India,\" Anupam wrote along with the picture. He thanked Anurag for the \"short and awesome meeting\".',\n",
       "  'category': 'Entertainment'},\n",
       " {'title': \"Couldn't finish watching 'Bhool Bhulaiyaa 2', it was scary: Katrina\",\n",
       "  'summary': 'Actress Katrina Kaif has said that she couldn\\'t finish watching Kartik Aaryan-starrer \\'Bhool Bhulaiyaa 2\\'. Explaining the reason behind it, the \\'Phone Bhoot\\' actress said, \"I had to like cover my eyes. When Tabu comes all that even though I know that there is humour inside of it, even for me that was very very scary.\"',\n",
       "  'category': 'Entertainment'},\n",
       " {'title': \"I may not be most talented, but I'm the hardest working: Janhvi Kapoor\",\n",
       "  'summary': 'Actress Janhvi Kapoor has said that people have the \"biggest misconception\" about her that she takes her position for granted. \"I may not be the most talented or the most beautiful...but I can promise you that I\\'m the hardest-working person on the set,\" she added. Janhvi recently featured in \\'Good Luck Jerry\\' and will next star in \\'Bawaal\\'.',\n",
       "  'category': 'Entertainment'},\n",
       " {'title': \"Loved Prashanth's work in 'KGF', he creates special world: Shruti Haasan\",\n",
       "  'summary': 'Actress Shruti Haasan praised filmmaker Prashanth Neel for his work in the \\'KGF\\' franchise. \"I loved Prashanth sir\\'s work in KGF and I think he really creates a special world that you get a grand feeling as an audience and actor,\" she added. Shruti will feature in Prashanth\\'s \\'Salaar\\', which also features \\'Baahubali\\' actor Prabhas.',\n",
       "  'category': 'Entertainment'},\n",
       " {'title': \"Film festival in works to celebrate Dilip Kumar's 100th birth anniversary\",\n",
       "  'summary': 'Film Heritage Foundation (FHF) founder Shivendra Singh Dungarpur said that the organisation is planning a film festival to honour late actor Dilip Kumar on his 100th birth anniversary. \"There\\'s no better way to celebrate his legacy,\" Dungarpur said, adding that the challenge is to find the right material for the festival. FHF had recently organised \\'Bachchan: Back To The Beginning\\'.',\n",
       "  'category': 'Entertainment'},\n",
       " {'title': 'Got admission to my school because of Amitabh Bachchan: Ishaan Khatter',\n",
       "  'summary': 'Actor Ishaan Khatter revealed that Amitabh Bachchan helped him to get admission to his school. \"He was the reason why I got admission to my school,\" Ishaan said, adding that the legendary actor \"paid a personal visit to the authorities and the principal\". Talking about Amitabh Bachchan, Ishaan shared, \"There\\'s so much to learn just by watching him.\"',\n",
       "  'category': 'Entertainment'},\n",
       " {'title': \"Vicky & I get less time together, we've been away on shoots: Katrina\",\n",
       "  'summary': 'Actress Katrina Kaif, speaking about her husband and actor Vicky Kaushal, has said that they get less time together. \"He has been away a lot on shoots, as have I,\" the actress added. However, Katrina has said that Vicky is a wonderful person. \"I think it\\'s nice to have a person like that in my life,\" she further added.',\n",
       "  'category': 'Entertainment'},\n",
       " {'title': \"Shouldn't boycott film when govt is doing best to better economy: Rakul\",\n",
       "  'summary': 'Actress Rakul Preet Singh said the film industry suffers when a film gets boycotted. She added there\\'s a chain reaction that follows after a film gets boycotted. \"Employment goes down. At a time when the government is doing its best to better the economy, we shouldn\\'t advocate these things,\" she added. Recently, several films faced \\'boycott\\' calls on social media.',\n",
       "  'category': 'Entertainment'},\n",
       " {'title': \"Wholesome & cathartic experience: Ananya on 'Kho Gaye Hum Kahan'\",\n",
       "  'summary': 'Actress Ananya Panday has wrapped up the shooting of her upcoming film \\'Kho Gaye Hum Kahan\\' and called it \"the most fulfilling, wholesome, explorative and cathartic\" experience. \"I didn\\'t know it was possible to love so many people at once, but that\\'s what I felt every single day on set, for every single person associated with this film,\" she shared. ',\n",
       "  'category': 'Entertainment'},\n",
       " {'title': 'People felt I was talking about my depression to promote a film: Deepika',\n",
       "  'summary': 'Deepika Padukone, in a conversation with Meghan Markle, revealed many people thought she was either promoting a film or was being paid by a pharmaceutical company when she opened up about her depression. \"They thought I was being paid by a pharmaceutical company and you know that I\\'m now going to start advertising for some sort of medication,\" she added.',\n",
       "  'category': 'Entertainment'},\n",
       " {'title': 'Amitabh Bachchan is still naughty & sometimes grumpy on sets: Hema Malini',\n",
       "  'summary': 'Actress Hema Malini said that veteran actor Amitabh Bachchan was \"very quiet\" when they worked together for the first time. Hema and Amitabh worked together in several films like \\'Sholay\\' and \\'Baghban\\'. She stated that Amitabh hasn\\'t changed at all. \"He\\'s still very naughty, mischievous...sometimes serious and grumpy. He changes the mood on the sets with his entry,\" she added.',\n",
       "  'category': 'Entertainment'},\n",
       " {'title': \"It's definitely gonna blow up: Shekhar on music of SRK's 'Pathaan'\",\n",
       "  'summary': 'Music composer Shekhar Ravjiani took to Twitter and shared a picture of himself from the music studio. Along with his picture, he wrote, \"Back to the musicverse of \\'Pathaan\\' and the electrifying power of Shah Rukh Khan.\" He added, \"It\\'s definitely gonna blow up! It\\'s positively going to get you off the floor! Need I say more?\"',\n",
       "  'category': 'Entertainment'}]"
      ]
     },
     "execution_count": 305,
     "metadata": {},
     "output_type": "execute_result"
    }
   ],
   "source": [
    "def get_news_articles(topics=[\"Business\",\"Sports\",\"Technology\",\"Entertainment\"]):\n",
    "    ''' \n",
    "    takes in list of topics (optional)\n",
    "    goes to inshorts website, finds pages for topics, goes to that page\n",
    "    makes a list of dictionaries from headline, summary article, and category\n",
    "    returns list\n",
    "    '''\n",
    "    #set variables\n",
    "    url3 = \"https://inshorts.com/en/read\"\n",
    "    art_list=[]\n",
    "    #make the soup\n",
    "    soup_main = BeautifulSoup(get(url3).content)\n",
    "    articles = soup_main.select(\"ul\")\n",
    "    #go through the possible categories\n",
    "    for i in range(0,len(articles[0].find_all(\"li\"))):\n",
    "        #print(i)\n",
    "        #if find match to topics, go to that page and makes new soup\n",
    "        if articles[0].find_all(\"li\")[i].text in topics:\n",
    "            url = \"https://inshorts.com\"+articles[0].find_all(\"a\")[i][\"href\"]\n",
    "            soup_sub = BeautifulSoup(get(url).content)\n",
    "            #look for headline\n",
    "            title = soup_sub.find_all(\"span\",{\"itemprop\":\"headline\"})\n",
    "            #look for summary article\n",
    "            summary = soup_sub.find_all(\"div\",{\"itemprop\":\"articleBody\"})\n",
    "            #set them to a list for all on page\n",
    "            for j in range(0,len(summary)):\n",
    "                art_list.append({\"title\":title[j].text,\n",
    "                                \"summary\":summary[j].text,\n",
    "                                \"category\":articles[0].find_all(\"li\",)[i].text})\n",
    "    return art_list\n"
   ]
  },
  {
   "cell_type": "markdown",
   "metadata": {},
   "source": [
    "---\n",
    "---\n",
    "---\n",
    "---\n",
    "---\n",
    "---\n",
    "---\n",
    "---\n",
    "---\n",
    "---\n",
    "---\n",
    "---\n",
    "---\n",
    "---\n",
    "---\n",
    "---\n",
    "---\n",
    "---\n",
    "---\n",
    "---\n",
    "---\n",
    "---\n",
    "---\n",
    "---\n",
    "---\n",
    "---\n",
    "---\n",
    "---\n",
    "---\n",
    "---"
   ]
  },
  {
   "cell_type": "code",
   "execution_count": 75,
   "metadata": {},
   "outputs": [
    {
     "data": {
      "text/plain": [
       "<article class=\"et_pb_post clearfix et_pb_blog_item_0_0 post-19236 post type-post status-publish format-standard has-post-thumbnail hentry category-codeup-news\" id=\"post-19236\">\n",
       "<div class=\"et_pb_image_container\"><a class=\"entry-featured-image-url\" href=\"https://codeup.com/codeup-news/dei-report/\"><img alt=\"Diversity Equity and Inclusion Report\" class=\"\" height=\"250\" loading=\"lazy\" sizes=\"(max-width:479px) 479px, 100vw \" src=\"https://199lj33nqk3p88xz03dvn481-wpengine.netdna-ssl.com/wp-content/uploads/2022/10/Featured-Images-400x250.jpg\" srcset=\"https://199lj33nqk3p88xz03dvn481-wpengine.netdna-ssl.com/wp-content/uploads/2022/10/Featured-Images.jpg 479w, https://199lj33nqk3p88xz03dvn481-wpengine.netdna-ssl.com/wp-content/uploads/2022/10/Featured-Images-400x250.jpg 480w \" width=\"400\"/></a></div>\n",
       "<h2 class=\"entry-title\"><a href=\"https://codeup.com/codeup-news/dei-report/\">Diversity Equity and Inclusion Report</a></h2>\n",
       "<p class=\"post-meta\"><span class=\"published\">Oct 7, 2022</span></p><div class=\"post-content\"><div class=\"post-content-inner\"><p>Codeup is excited to launch our first Diversity Equity, and Inclusion (DEI) report! In over eight years as an...</p>\n",
       "</div><a class=\"more-link\" href=\"https://codeup.com/codeup-news/dei-report/\">read more</a></div>\n",
       "</article>"
      ]
     },
     "execution_count": 75,
     "metadata": {},
     "output_type": "execute_result"
    }
   ],
   "source": [
    "def nope():\n",
    "url2 = \"https://codeup.com/blog/\"\n",
    "headers = {'User-Agent': 'Codeup Data Science'} # Some websites don't accept the pyhon-requests default user-agent\n",
    "response = get(url2, headers=headers)\n",
    "soup=BeautifulSoup(response.content)\n",
    "articles = soup.select(\"article\")\n",
    "dikt = {}\n",
    "# print(art)\n",
    "##url\n",
    "dikt[\"url\"] = [(articles[art].select_one(\".more-link\")[\"href\"]) for art,_ in enumerate(articles)]\n",
    "# title\n",
    "dikt[\"title\"] = [(articles[art].select(\"h2\")[0].text.strip()) for art,_ in enumerate(articles)]\n",
    "## summary\n",
    "dikt[\"summary\"] = [(articles[art].select(\"p\")[1].text.strip()) for art,_ in enumerate(articles)]\n",
    "\n",
    "dikt"
   ]
  }
 ],
 "metadata": {
  "kernelspec": {
   "display_name": "Python 3.9.13 ('base')",
   "language": "python",
   "name": "python3"
  },
  "language_info": {
   "codemirror_mode": {
    "name": "ipython",
    "version": 3
   },
   "file_extension": ".py",
   "mimetype": "text/x-python",
   "name": "python",
   "nbconvert_exporter": "python",
   "pygments_lexer": "ipython3",
   "version": "3.9.13"
  },
  "orig_nbformat": 4,
  "vscode": {
   "interpreter": {
    "hash": "3067ead486e059ec00ffe7555bdb889e6e264a24dc711bf108106cc7baee8d5d"
   }
  }
 },
 "nbformat": 4,
 "nbformat_minor": 2
}
