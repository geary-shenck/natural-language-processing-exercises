{
 "cells": [
  {
   "cell_type": "code",
   "execution_count": 1,
   "metadata": {},
   "outputs": [],
   "source": [
    "#### Import Section\n",
    "import re\n",
    "import pandas as pd\n",
    "import numpy as np\n",
    "import seaborn as sns\n",
    "import matplotlib.pyplot as plt\n",
    "\n",
    "#import warnings\n",
    "#warnings.filterwarnings(\"ignore\")\n"
   ]
  },
  {
   "cell_type": "markdown",
   "metadata": {},
   "source": [
    "## Write a function named is_vowel. It should accept a string as input and use a regular expression to determine if the passed string is a vowel. While not explicity mentioned in the lesson, you can treat the result of re.search as a boolean value that indicates whether or not the regular expression matches the given string."
   ]
  },
  {
   "cell_type": "code",
   "execution_count": 2,
   "metadata": {},
   "outputs": [],
   "source": [
    "def is_vowel(string):\n",
    "    '''checks if string is vowel'''\n",
    "    regexp = r'[aeiou]'\n",
    "\n",
    "    flag = re.search(regexp, string)\n",
    "    return bool(flag)"
   ]
  },
  {
   "cell_type": "markdown",
   "metadata": {},
   "source": [
    "### class"
   ]
  },
  {
   "cell_type": "code",
   "execution_count": 166,
   "metadata": {},
   "outputs": [],
   "source": [
    "\n",
    "def is_vowel(x):\n",
    "    regexp = r'^[aeiou]$'\n",
    "    return bool(re.search(regexp,x,re.IGNORECASE))"
   ]
  },
  {
   "cell_type": "code",
   "execution_count": 169,
   "metadata": {},
   "outputs": [
    {
     "name": "stdout",
     "output_type": "stream",
     "text": [
      "True True False\n"
     ]
    }
   ],
   "source": [
    "print(is_vowel(\"i\"),is_vowel(\"A\"),is_vowel(\"d\"))"
   ]
  },
  {
   "cell_type": "markdown",
   "metadata": {},
   "source": [
    "## Write a function named is_valid_username that accepts a string as input. A valid username starts with a lowercase letter, and only consists of lowercase letters, numbers, or the _ character. It should also be no longer than 32 characters. The function should return either True or False depending on whether the passed string is a valid username."
   ]
  },
  {
   "cell_type": "code",
   "execution_count": 172,
   "metadata": {},
   "outputs": [],
   "source": [
    "def is_valid_username(string):\n",
    "    ''' takes in string\n",
    "    has only lowercase, numbers or the _ character. no longer than 32\n",
    "    returns T/F'''\n",
    "\n",
    "    flag = True\n",
    "\n",
    "    #checks if over 32\n",
    "    if len(string)>32:\n",
    "        flag = False\n",
    "        print(\"failed max char limit (32)\",string)\n",
    "\n",
    "    #checks if all lowercase and only _ accpeted\n",
    "    if len(re.findall(r'[a-z]|[0-9]|_',string)) != len(string):\n",
    "        flag = False\n",
    "        print(\"failed at lowercase or only '_'\",string)\n",
    "        \n",
    "    # checks if starts with letter\n",
    "    if len(re.findall(r'^[a-z]',string))<1:\n",
    "        flag = False\n",
    "        print(\"failed at lowercase for first char\",string)\n",
    "\n",
    "    print(flag,string,\"\\n ----------\")\n",
    "    return bool(flag)"
   ]
  },
  {
   "cell_type": "code",
   "execution_count": 173,
   "metadata": {},
   "outputs": [
    {
     "name": "stdout",
     "output_type": "stream",
     "text": [
      "failed max char limit (32) aaaaaaaaaaaaaaaaaaaaaaaaaaaaaaaaa\n",
      "False aaaaaaaaaaaaaaaaaaaaaaaaaaaaaaaaa \n",
      " ----------\n",
      "True codeup \n",
      " ----------\n",
      "failed at lowercase or only '_' Codeup\n",
      "failed at lowercase for first char Codeup\n",
      "False Codeup \n",
      " ----------\n",
      "True codeup123 \n",
      " ----------\n",
      "failed at lowercase for first char 1codeup\n",
      "False 1codeup \n",
      " ----------\n"
     ]
    },
    {
     "data": {
      "text/plain": [
       "False"
      ]
     },
     "execution_count": 173,
     "metadata": {},
     "output_type": "execute_result"
    }
   ],
   "source": [
    ">>> is_valid_username('aaaaaaaaaaaaaaaaaaaaaaaaaaaaaaaaa')\n",
    "False\n",
    ">>> is_valid_username('codeup')\n",
    "True\n",
    ">>> is_valid_username('Codeup')\n",
    "False\n",
    ">>> is_valid_username('codeup123')\n",
    "True\n",
    ">>> is_valid_username('1codeup')\n",
    "False\n"
   ]
  },
  {
   "cell_type": "markdown",
   "metadata": {},
   "source": [
    "### class"
   ]
  },
  {
   "cell_type": "code",
   "execution_count": 170,
   "metadata": {},
   "outputs": [],
   "source": [
    "def is_valid_username(x):\n",
    "    regexp = r'^[a-z]\\w{,31}$'\n",
    "    return re.search(regexp,x)"
   ]
  },
  {
   "cell_type": "markdown",
   "metadata": {},
   "source": [
    "## Write a regular expression to capture phone numbers. It should match all of the following:"
   ]
  },
  {
   "cell_type": "code",
   "execution_count": 174,
   "metadata": {},
   "outputs": [],
   "source": [
    "numbers = [\"(210) 867 5309\",\n",
    "\"+1 210.867.5309\",\n",
    "\"867-5309\",\n",
    "\"210-867-5309\"]\n"
   ]
  },
  {
   "cell_type": "code",
   "execution_count": 175,
   "metadata": {},
   "outputs": [
    {
     "name": "stdout",
     "output_type": "stream",
     "text": [
      "['210', '867', '5309']\n",
      "['210', '867', '5309']\n",
      "['867', '5309']\n",
      "['210', '867', '5309']\n"
     ]
    }
   ],
   "source": [
    "regexp = r'\\d+'\n",
    "for num in numbers:\n",
    "    print(re.findall(regexp,num)[-3:])"
   ]
  },
  {
   "cell_type": "markdown",
   "metadata": {},
   "source": [
    "### class"
   ]
  },
  {
   "cell_type": "code",
   "execution_count": 182,
   "metadata": {},
   "outputs": [
    {
     "name": "stdout",
     "output_type": "stream",
     "text": [
      "['(210) 867 5309']\n",
      "['+1 210.867.5309']\n",
      "['867-5309']\n",
      "['210-867-5309']\n"
     ]
    }
   ],
   "source": [
    "regexp = r'.*?\\d+\\D*?\\d+.\\d+$'\n",
    "\n",
    "for num in numbers:\n",
    "    print(re.findall(regexp,num))"
   ]
  },
  {
   "cell_type": "markdown",
   "metadata": {},
   "source": [
    "## Use regular expressions to convert the dates below to the standardized year-month-day format."
   ]
  },
  {
   "cell_type": "code",
   "execution_count": 53,
   "metadata": {},
   "outputs": [],
   "source": [
    "dates =[\"02/04/19\",\n",
    "        \"02/05/19\",\n",
    "        \"02/06/19\",\n",
    "        \"02/07/19\",\n",
    "        \"02/08/19\",\n",
    "        \"02/09/19\",\n",
    "        \"02/10/19\"]"
   ]
  },
  {
   "cell_type": "code",
   "execution_count": 73,
   "metadata": {},
   "outputs": [
    {
     "name": "stdout",
     "output_type": "stream",
     "text": [
      "02/04/19\n",
      "02/05/19\n",
      "02/06/19\n",
      "02/07/19\n",
      "02/08/19\n",
      "02/09/19\n",
      "02/10/19\n"
     ]
    },
    {
     "data": {
      "text/plain": [
       "['2019/02/04',\n",
       " '2019/02/05',\n",
       " '2019/02/06',\n",
       " '2019/02/07',\n",
       " '2019/02/08',\n",
       " '2019/02/09',\n",
       " '2019/02/10']"
      ]
     },
     "execution_count": 73,
     "metadata": {},
     "output_type": "execute_result"
    }
   ],
   "source": [
    "converted = []\n",
    "for date in dates:\n",
    "    print(date)\n",
    "    regexp = r'(?P<month>\\d\\d)/(?P<day>\\d\\d)/(?P<year>\\d\\d)'\n",
    "    match = re.search(regexp,date)\n",
    "    converted.append(\"20\"+match.group(\"year\")+\"/\"+match.group(\"month\")+\"/\"+match.group(\"day\"))\n",
    "converted"
   ]
  },
  {
   "cell_type": "markdown",
   "metadata": {},
   "source": [
    "### class"
   ]
  },
  {
   "cell_type": "code",
   "execution_count": 184,
   "metadata": {},
   "outputs": [
    {
     "name": "stdout",
     "output_type": "stream",
     "text": [
      "2019-02-2\n",
      "2019-02-2\n",
      "2019-02-2\n",
      "2019-02-2\n",
      "2019-02-2\n",
      "2019-02-2\n",
      "2019-02-2\n"
     ]
    }
   ],
   "source": [
    "regexp = r'(\\d{2})/(\\d{2})/(\\d{2})'\n",
    "\n",
    "for date in dates:\n",
    "    print(re.sub(regexp,r'20\\3-\\1-2',date))"
   ]
  },
  {
   "cell_type": "markdown",
   "metadata": {},
   "source": [
    "## Write a regex to extract the various parts of these logfile lines:"
   ]
  },
  {
   "cell_type": "code",
   "execution_count": 74,
   "metadata": {},
   "outputs": [
    {
     "data": {
      "text/plain": [
       "['GET /api/v1/sales?page=86 [16/Apr/2019:193452+0000] HTTP/1.1 {200} 510348 \"python-requests/2.21.0\" 97.105.19.58',\n",
       " 'POST /users_accounts/file-upload [16/Apr/2019:193452+0000] HTTP/1.1 {201} 42 \"User-Agent: Mozilla/5.0 (X11; Fedora; Fedora; Linux x86_64) AppleWebKit/537.36 (KHTML, like Gecko) Chrome/73.0.3683.86 Safari/537.36\" 97.105.19.58',\n",
       " 'GET /api/v1/items?page=3 [16/Apr/2019:193453+0000] HTTP/1.1 {429} 3561 \"python-requests/2.21.0\" 97.105.19.58']"
      ]
     },
     "execution_count": 74,
     "metadata": {},
     "output_type": "execute_result"
    }
   ],
   "source": [
    "lines = ['GET /api/v1/sales?page=86 [16/Apr/2019:193452+0000] HTTP/1.1 {200} 510348 \"python-requests/2.21.0\" 97.105.19.58',\n",
    "'POST /users_accounts/file-upload [16/Apr/2019:193452+0000] HTTP/1.1 {201} 42 \"User-Agent: Mozilla/5.0 (X11; Fedora; Fedora; Linux x86_64) AppleWebKit/537.36 (KHTML, like Gecko) Chrome/73.0.3683.86 Safari/537.36\" 97.105.19.58',\n",
    "'GET /api/v1/items?page=3 [16/Apr/2019:193453+0000] HTTP/1.1 {429} 3561 \"python-requests/2.21.0\" 97.105.19.58']\n",
    "lines"
   ]
  },
  {
   "cell_type": "code",
   "execution_count": 213,
   "metadata": {},
   "outputs": [
    {
     "name": "stdout",
     "output_type": "stream",
     "text": [
      "[('GET', '/api/v1/sales?page=86', '[16/Apr/2019:193452+0000]', 'HTTP/1.1', '{200}', '510348', '\"python-requests/2.21.0\"', '97.105.19.58')]\n",
      "[('POST', '/users_accounts/file-upload', '[16/Apr/2019:193452+0000]', 'HTTP/1.1', '{201}', '42', '\"User-Agent: Mozilla/5.0 (X11; Fedora; Fedora; Linux x86_64) AppleWebKit/537.36 (KHTML, like Gecko) Chrome/73.0.3683.86 Safari/537.36\"', '97.105.19.58')]\n",
      "[('GET', '/api/v1/items?page=3', '[16/Apr/2019:193453+0000]', 'HTTP/1.1', '{429}', '3561', '\"python-requests/2.21.0\"', '97.105.19.58')]\n"
     ]
    },
    {
     "data": {
      "text/html": [
       "<div>\n",
       "<style scoped>\n",
       "    .dataframe tbody tr th:only-of-type {\n",
       "        vertical-align: middle;\n",
       "    }\n",
       "\n",
       "    .dataframe tbody tr th {\n",
       "        vertical-align: top;\n",
       "    }\n",
       "\n",
       "    .dataframe thead th {\n",
       "        text-align: right;\n",
       "    }\n",
       "</style>\n",
       "<table border=\"1\" class=\"dataframe\">\n",
       "  <thead>\n",
       "    <tr style=\"text-align: right;\">\n",
       "      <th></th>\n",
       "      <th>method_request</th>\n",
       "      <th>path</th>\n",
       "      <th>date</th>\n",
       "      <th>proto</th>\n",
       "      <th>response_code</th>\n",
       "      <th>size</th>\n",
       "      <th>user_agent</th>\n",
       "      <th>ip</th>\n",
       "    </tr>\n",
       "  </thead>\n",
       "  <tbody>\n",
       "    <tr>\n",
       "      <th>0</th>\n",
       "      <td>GET</td>\n",
       "      <td>/api/v1/sales?page=86</td>\n",
       "      <td>[16/Apr/2019:193452+0000]</td>\n",
       "      <td>HTTP/1.1</td>\n",
       "      <td>{200}</td>\n",
       "      <td>510348</td>\n",
       "      <td>\"python-requests/2.21.0\"</td>\n",
       "      <td>97.105.19.58</td>\n",
       "    </tr>\n",
       "    <tr>\n",
       "      <th>1</th>\n",
       "      <td>POST</td>\n",
       "      <td>/users_accounts/file-upload</td>\n",
       "      <td>[16/Apr/2019:193452+0000]</td>\n",
       "      <td>HTTP/1.1</td>\n",
       "      <td>{201}</td>\n",
       "      <td>42</td>\n",
       "      <td>\"User-Agent: Mozilla/5.0 (X11; Fedora; Fedora;...</td>\n",
       "      <td>97.105.19.58</td>\n",
       "    </tr>\n",
       "    <tr>\n",
       "      <th>2</th>\n",
       "      <td>GET</td>\n",
       "      <td>/api/v1/items?page=3</td>\n",
       "      <td>[16/Apr/2019:193453+0000]</td>\n",
       "      <td>HTTP/1.1</td>\n",
       "      <td>{429}</td>\n",
       "      <td>3561</td>\n",
       "      <td>\"python-requests/2.21.0\"</td>\n",
       "      <td>97.105.19.58</td>\n",
       "    </tr>\n",
       "  </tbody>\n",
       "</table>\n",
       "</div>"
      ],
      "text/plain": [
       "  method_request                         path                       date  \\\n",
       "0            GET        /api/v1/sales?page=86  [16/Apr/2019:193452+0000]   \n",
       "1           POST  /users_accounts/file-upload  [16/Apr/2019:193452+0000]   \n",
       "2            GET         /api/v1/items?page=3  [16/Apr/2019:193453+0000]   \n",
       "\n",
       "      proto response_code    size  \\\n",
       "0  HTTP/1.1         {200}  510348   \n",
       "1  HTTP/1.1         {201}      42   \n",
       "2  HTTP/1.1         {429}    3561   \n",
       "\n",
       "                                          user_agent            ip  \n",
       "0                           \"python-requests/2.21.0\"  97.105.19.58  \n",
       "1  \"User-Agent: Mozilla/5.0 (X11; Fedora; Fedora;...  97.105.19.58  \n",
       "2                           \"python-requests/2.21.0\"  97.105.19.58  "
      ]
     },
     "execution_count": 213,
     "metadata": {},
     "output_type": "execute_result"
    }
   ],
   "source": [
    "regexp = r'''\n",
    "            (?P<method_request>^[A-Z]+)\\s\n",
    "            (?P<path>.\\S+)\\s\n",
    "            (?P<date>.\\S+)\\s\n",
    "            (?P<proto>.\\S+)\\s\n",
    "            (?P<response_code>.\\S+)\\s\n",
    "            (?P<size>.\\S+)\\s\n",
    "            (?P<user_agent>\".+\")\\s\n",
    "            (?P<ip>.\\S+)\n",
    "\n",
    "        '''\n",
    "for line in lines:\n",
    "    print(re.findall(regexp, line,re.VERBOSE))\n",
    "\n",
    "pattern = re.compile(regexp,re.VERBOSE)\n",
    "contact = [re.search(pattern,line).groupdict() for line in lines]\n",
    "pd.DataFrame(contact)"
   ]
  },
  {
   "cell_type": "markdown",
   "metadata": {},
   "source": [
    "### class"
   ]
  },
  {
   "cell_type": "code",
   "execution_count": 209,
   "metadata": {},
   "outputs": [
    {
     "data": {
      "text/plain": [
       "[('GET',\n",
       "  '/api/v1/sales?page=86',\n",
       "  '16/Apr/2019:193452+0000',\n",
       "  'HTTP/1.1',\n",
       "  '200',\n",
       "  '510348',\n",
       "  'python-requests/2.21.0',\n",
       "  '97.105.19.58')]"
      ]
     },
     "execution_count": 209,
     "metadata": {},
     "output_type": "execute_result"
    }
   ],
   "source": [
    "regexp = r'(\\w+)\\s(.*?)\\s\\[(.*?)\\].*?\\s(.*?)\\s{(\\d+)\\}\\s(\\d+)\\s\\\"(.*?)\\\"\\s(.*)' \n",
    "\n",
    "re.findall(regexp,lines[0])"
   ]
  },
  {
   "cell_type": "code",
   "execution_count": 217,
   "metadata": {},
   "outputs": [
    {
     "data": {
      "text/html": [
       "<div>\n",
       "<style scoped>\n",
       "    .dataframe tbody tr th:only-of-type {\n",
       "        vertical-align: middle;\n",
       "    }\n",
       "\n",
       "    .dataframe tbody tr th {\n",
       "        vertical-align: top;\n",
       "    }\n",
       "\n",
       "    .dataframe thead th {\n",
       "        text-align: right;\n",
       "    }\n",
       "</style>\n",
       "<table border=\"1\" class=\"dataframe\">\n",
       "  <thead>\n",
       "    <tr style=\"text-align: right;\">\n",
       "      <th></th>\n",
       "      <th>method_request</th>\n",
       "      <th>path</th>\n",
       "      <th>date</th>\n",
       "      <th>http_version</th>\n",
       "      <th>response_code</th>\n",
       "      <th>size_bytes</th>\n",
       "      <th>user_agent</th>\n",
       "      <th>ip_address</th>\n",
       "    </tr>\n",
       "  </thead>\n",
       "  <tbody>\n",
       "    <tr>\n",
       "      <th>0</th>\n",
       "      <td>GET</td>\n",
       "      <td>/api/v1/sales?page=86</td>\n",
       "      <td>16/Apr/2019:193452+0000</td>\n",
       "      <td>HTTP/1.1</td>\n",
       "      <td>200</td>\n",
       "      <td>510348</td>\n",
       "      <td>python-requests/2.21.0</td>\n",
       "      <td>97.105.19.58</td>\n",
       "    </tr>\n",
       "    <tr>\n",
       "      <th>1</th>\n",
       "      <td>POST</td>\n",
       "      <td>/users_accounts/file-upload</td>\n",
       "      <td>16/Apr/2019:193452+0000</td>\n",
       "      <td>HTTP/1.1</td>\n",
       "      <td>201</td>\n",
       "      <td>42</td>\n",
       "      <td>User-Agent: Mozilla/5.0 (X11; Fedora; Fedora; ...</td>\n",
       "      <td>97.105.19.58</td>\n",
       "    </tr>\n",
       "    <tr>\n",
       "      <th>2</th>\n",
       "      <td>GET</td>\n",
       "      <td>/api/v1/items?page=3</td>\n",
       "      <td>16/Apr/2019:193453+0000</td>\n",
       "      <td>HTTP/1.1</td>\n",
       "      <td>429</td>\n",
       "      <td>3561</td>\n",
       "      <td>python-requests/2.21.0</td>\n",
       "      <td>97.105.19.58</td>\n",
       "    </tr>\n",
       "  </tbody>\n",
       "</table>\n",
       "</div>"
      ],
      "text/plain": [
       "  method_request                         path                     date  \\\n",
       "0            GET        /api/v1/sales?page=86  16/Apr/2019:193452+0000   \n",
       "1           POST  /users_accounts/file-upload  16/Apr/2019:193452+0000   \n",
       "2            GET         /api/v1/items?page=3  16/Apr/2019:193453+0000   \n",
       "\n",
       "  http_version response_code size_bytes  \\\n",
       "0     HTTP/1.1           200     510348   \n",
       "1     HTTP/1.1           201         42   \n",
       "2     HTTP/1.1           429       3561   \n",
       "\n",
       "                                          user_agent    ip_address  \n",
       "0                             python-requests/2.21.0  97.105.19.58  \n",
       "1  User-Agent: Mozilla/5.0 (X11; Fedora; Fedora; ...  97.105.19.58  \n",
       "2                             python-requests/2.21.0  97.105.19.58  "
      ]
     },
     "execution_count": 217,
     "metadata": {},
     "output_type": "execute_result"
    }
   ],
   "source": [
    "regexp = r''' \n",
    "            (?P<method_request>\\w+)\\s\n",
    "            (?P<path>.*?)\\s\n",
    "            \\[(?P<date>.*?)\\].*?\\s\n",
    "            (?P<http_version>.*?)\\s\n",
    "            {(?P<response_code>\\d+)\\}\\s\n",
    "            (?P<size_bytes>\\d+)\\s\n",
    "            \\\"(?P<user_agent>.*?)\\\"\\s\n",
    "            (?P<ip_address>.*)\n",
    "            ''' \n",
    "\n",
    "logs = [re.search(regexp,line,re.VERBOSE).groupdict() for line in lines]\n",
    "pd.DataFrame(logs)"
   ]
  },
  {
   "cell_type": "code",
   "execution_count": null,
   "metadata": {},
   "outputs": [],
   "source": []
  }
 ],
 "metadata": {
  "kernelspec": {
   "display_name": "Python 3.9.13 ('base')",
   "language": "python",
   "name": "python3"
  },
  "language_info": {
   "codemirror_mode": {
    "name": "ipython",
    "version": 3
   },
   "file_extension": ".py",
   "mimetype": "text/x-python",
   "name": "python",
   "nbconvert_exporter": "python",
   "pygments_lexer": "ipython3",
   "version": "3.9.13"
  },
  "orig_nbformat": 4,
  "vscode": {
   "interpreter": {
    "hash": "3067ead486e059ec00ffe7555bdb889e6e264a24dc711bf108106cc7baee8d5d"
   }
  }
 },
 "nbformat": 4,
 "nbformat_minor": 2
}
